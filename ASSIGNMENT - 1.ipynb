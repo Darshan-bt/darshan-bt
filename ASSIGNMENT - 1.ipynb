{
 "cells": [
  {
   "cell_type": "markdown",
   "id": "01573ab5-49cc-416b-9d87-dadc664f0172",
   "metadata": {},
   "source": [
    "### Python Practice Question and Answer"
   ]
  },
  {
   "cell_type": "markdown",
   "id": "e8cd3482-0d89-4525-8ad3-f6408371e104",
   "metadata": {},
   "source": [
    "### A.String"
   ]
  },
  {
   "cell_type": "markdown",
   "id": "a40adfa9-8285-4d30-a106-f67632c67179",
   "metadata": {},
   "source": [
    "#### 1. Check if a given string is a palindrome."
   ]
  },
  {
   "cell_type": "code",
   "execution_count": 3,
   "id": "3d1346e7-5660-429f-a002-c385bf071054",
   "metadata": {},
   "outputs": [
    {
     "name": "stdout",
     "output_type": "stream",
     "text": [
      "string is palindrome\n"
     ]
    }
   ],
   "source": [
    "var = 121\n",
    "if var == 121:\n",
    "    print(\"string is palindrome\")\n",
    "elif var > 11:\n",
    "    print(\"number is greater] than 11\")\n",
    "    if var == 11:\n",
    "        print(\"number is less than 11\")\n",
    "    "
   ]
  },
  {
   "cell_type": "markdown",
   "id": "6832e45c-37fb-44c8-adda-db0570bd4a78",
   "metadata": {},
   "source": [
    "#### 2.Count the numbers of vowels in a string and store the result in a dictionary."
   ]
  },
  {
   "cell_type": "code",
   "execution_count": 4,
   "id": "c6348e68-ed96-4177-a35d-28cd963f94fc",
   "metadata": {},
   "outputs": [
    {
     "name": "stdout",
     "output_type": "stream",
     "text": [
      "{'a': 2, 'e': 0, 'i': 0, 'o': 0, 'u': 0}\n"
     ]
    }
   ],
   "source": [
    "s =\"darshan\"\n",
    "vowels = \"aeiou\"\n",
    "count ={v:s.count(v) for v in vowels}\n",
    "print(count)"
   ]
  },
  {
   "cell_type": "markdown",
   "id": "9ebb374e-21cd-4c70-b665-41501b8d54d1",
   "metadata": {},
   "source": [
    "#### 3.Convert the first letter of each word in a string to uppercase(title case manually)"
   ]
  },
  {
   "cell_type": "code",
   "execution_count": 5,
   "id": "893f0dad-c6e4-413f-bf8d-6ea4a4d993eb",
   "metadata": {},
   "outputs": [
    {
     "name": "stdin",
     "output_type": "stream",
     "text": [
      "Sentence i am learning data science\n"
     ]
    },
    {
     "name": "stdout",
     "output_type": "stream",
     "text": [
      "I Am Learning Data Science\n"
     ]
    }
   ],
   "source": [
    "a = input(\"Sentence\").title()\n",
    "print(a)"
   ]
  },
  {
   "cell_type": "markdown",
   "id": "31218382-24df-4bd3-a662-f8ab52989d24",
   "metadata": {},
   "source": [
    "#### 4.Find the most frequently occuring character in a string."
   ]
  },
  {
   "cell_type": "code",
   "execution_count": 11,
   "id": "ba48029c-1838-443e-96f1-3793c82c56b5",
   "metadata": {},
   "outputs": [
    {
     "name": "stdout",
     "output_type": "stream",
     "text": [
      "a\n"
     ]
    }
   ],
   "source": [
    "d = \"elephant\"\n",
    "freq = {ch:s.count(ch)for ch in d}\n",
    "print(max(freq,key = freq.get))"
   ]
  },
  {
   "cell_type": "markdown",
   "id": "46d4f4a9-fbaf-4648-b5be-5715596034f1",
   "metadata": {},
   "source": [
    "#### 5.Count digits, alphabets and special charcter separately in a string."
   ]
  },
  {
   "cell_type": "code",
   "execution_count": 14,
   "id": "2a265391-e7f7-4d56-94b3-2a41d81b3565",
   "metadata": {},
   "outputs": [
    {
     "name": "stdin",
     "output_type": "stream",
     "text": [
      "Enter a string Darshan@112012\n"
     ]
    },
    {
     "name": "stdout",
     "output_type": "stream",
     "text": [
      "Alphabets: 7\n",
      "Digits: 0\n",
      "Special character: 1\n"
     ]
    }
   ],
   "source": [
    "a = input(\"Enter a string\")\n",
    "\n",
    "alphabets =0\n",
    "digits = 0 \n",
    "special = 0\n",
    "\n",
    "for ch in a:\n",
    "    if ch.isalpha():\n",
    "        alphabets +=1\n",
    "    elif ch.isdigit():\n",
    "        digit +=1\n",
    "    else:\n",
    "        special +=1\n",
    "\n",
    "print(\"Alphabets:\", alphabets)\n",
    "print(\"Digits:\", digits)\n",
    "print(\"Special character:\", special)"
   ]
  },
  {
   "cell_type": "code",
   "execution_count": null,
   "id": "9926cd38-25fe-42ff-91e4-8cd058e9ed48",
   "metadata": {},
   "outputs": [],
   "source": []
  },
  {
   "cell_type": "markdown",
   "id": "321ff5a1-2ea8-43e8-b8e1-70886301de60",
   "metadata": {},
   "source": [
    "### B.List"
   ]
  },
  {
   "cell_type": "markdown",
   "id": "46a1ef3f-1c7d-4490-83ef-2f73df5b72e5",
   "metadata": {},
   "source": [
    "#### 6.Remove duplicate element from a list without using set()."
   ]
  },
  {
   "cell_type": "code",
   "execution_count": 24,
   "id": "fc6862df-8cb9-463e-ab61-a101aa1c87f8",
   "metadata": {},
   "outputs": [
    {
     "name": "stdout",
     "output_type": "stream",
     "text": [
      "[11, 12, 13, 20, 15, 14]\n"
     ]
    }
   ],
   "source": [
    "l1 = [11, 12, 13, 12, 11, 20, 15, 20, 14]\n",
    "new_list = []\n",
    "for i in l1:\n",
    "    if i not in new_list:\n",
    "        new_list.append(i)\n",
    "print(new_list)"
   ]
  },
  {
   "cell_type": "markdown",
   "id": "20c2eef6-eaf9-4f8c-a397-5fb37f75fb62",
   "metadata": {},
   "source": [
    "#### 7.Reverse a list without using built in function."
   ]
  },
  {
   "cell_type": "code",
   "execution_count": 25,
   "id": "8dc99dae-3a2d-4b71-b836-5bdd09425766",
   "metadata": {},
   "outputs": [
    {
     "name": "stdout",
     "output_type": "stream",
     "text": [
      "[11, 12, 13, 14, 15, 16, 17, 18, 19, 20]\n"
     ]
    }
   ],
   "source": [
    "l1 = [20,19,18,17,16,15,14,13,12,11]\n",
    "l1 = l1[::-1]\n",
    "print(l1)"
   ]
  },
  {
   "cell_type": "markdown",
   "id": "9e8492ef-59e8-48f4-bb75-6cd0becf60b2",
   "metadata": {},
   "source": [
    "#### 8.find the 2nd largest and 2nd smallest element in a list."
   ]
  },
  {
   "cell_type": "code",
   "execution_count": 26,
   "id": "3a6ada45-9245-4745-a618-98cdc33f9794",
   "metadata": {},
   "outputs": [
    {
     "name": "stdout",
     "output_type": "stream",
     "text": [
      "Second Smallest: 12\n",
      "Second Largest: 15\n"
     ]
    }
   ],
   "source": [
    "l1 = [11,12,13,15,20]\n",
    "print(\"Second Smallest:\", l1[1])\n",
    "print(\"Second Largest:\", l1[-2])"
   ]
  },
  {
   "cell_type": "markdown",
   "id": "49647c75-3a75-4afb-b7c3-803229d933c2",
   "metadata": {},
   "source": [
    "#### 9.Store the square of each element of a list into a new list(using list comprehension)"
   ]
  },
  {
   "cell_type": "code",
   "execution_count": 28,
   "id": "2d8a3171-34b0-4e17-b079-bc5c98397b3f",
   "metadata": {},
   "outputs": [
    {
     "data": {
      "text/plain": [
       "[121, 144, 400, 729]"
      ]
     },
     "execution_count": 28,
     "metadata": {},
     "output_type": "execute_result"
    }
   ],
   "source": [
    "l1 = [11,12,20,27]\n",
    "[i**2 for i in l1]"
   ]
  },
  {
   "cell_type": "markdown",
   "id": "b931075c-af3e-4d27-984f-7a13bd957396",
   "metadata": {},
   "source": [
    "#### 10.Flatten a nested list into a single list."
   ]
  },
  {
   "cell_type": "code",
   "execution_count": 29,
   "id": "960583d8-b69a-44fc-a057-4ed8b05c0f36",
   "metadata": {},
   "outputs": [
    {
     "data": {
      "text/plain": [
       "[11, 12, 13, 14, 19, 20]"
      ]
     },
     "execution_count": 29,
     "metadata": {},
     "output_type": "execute_result"
    }
   ],
   "source": [
    "nested = [[11,12],[13,14],[19,20]]\n",
    "[x for sub in nested for x in sub]"
   ]
  },
  {
   "cell_type": "code",
   "execution_count": null,
   "id": "4aeba694-3961-41cd-9d39-d27d900e380f",
   "metadata": {},
   "outputs": [],
   "source": []
  },
  {
   "cell_type": "markdown",
   "id": "37210551-04ea-4f0b-a27e-13ccd2ed61f0",
   "metadata": {},
   "source": [
    "### C.Tuple"
   ]
  },
  {
   "cell_type": "markdown",
   "id": "a2965aa3-55dc-40d8-9de9-b2460667930c",
   "metadata": {},
   "source": [
    "#### 11.Reverse a tuple without using[::-1]."
   ]
  },
  {
   "cell_type": "code",
   "execution_count": 38,
   "id": "b602cec1-d8a7-46e2-8e17-d4d5faf739ce",
   "metadata": {},
   "outputs": [],
   "source": [
    "l1 = [11,12,13,15,20]\n",
    "l1.reverse()"
   ]
  },
  {
   "cell_type": "code",
   "execution_count": 39,
   "id": "f994dee6-8f4b-42ef-816c-5ea895692044",
   "metadata": {},
   "outputs": [
    {
     "data": {
      "text/plain": [
       "[20, 15, 13, 12, 11]"
      ]
     },
     "execution_count": 39,
     "metadata": {},
     "output_type": "execute_result"
    }
   ],
   "source": [
    "l1"
   ]
  },
  {
   "cell_type": "markdown",
   "id": "54d3c2f5-8451-47f6-8505-9a74934731f1",
   "metadata": {},
   "source": [
    "#### 12.Extract unique elements from a tuple and store them in a new list."
   ]
  },
  {
   "cell_type": "code",
   "execution_count": 41,
   "id": "31e51c5d-9151-492a-be38-75f7442800e7",
   "metadata": {},
   "outputs": [
    {
     "name": "stdout",
     "output_type": "stream",
     "text": [
      "Original tuple: (11, 12, 13, 11, 20, 15, 24, 20, 12, 10)\n",
      "Unique element list [11, 12, 13, 20, 15, 24, 10]\n"
     ]
    }
   ],
   "source": [
    "t1 =(11,12,13,11,20,15,24,20,12,10)\n",
    "unique = []\n",
    "for i in t1:\n",
    "    if i not in unique:\n",
    "        unique.append(i)\n",
    "        \n",
    "print(\"Original tuple:\", t1)\n",
    "print(\"Unique element list\", unique)"
   ]
  },
  {
   "cell_type": "markdown",
   "id": "dd0cc845-6574-434e-8422-f4a139fc4865",
   "metadata": {},
   "source": [
    "#### 13.Concatenate two tuples and sort them."
   ]
  },
  {
   "cell_type": "code",
   "execution_count": 42,
   "id": "8f5459ba-805f-421d-94b8-2f89754c2796",
   "metadata": {},
   "outputs": [
    {
     "name": "stdout",
     "output_type": "stream",
     "text": [
      "(11, 12, 13, 14, 15, 15, 16, 17, 19, 20)\n"
     ]
    }
   ],
   "source": [
    "t1 =(11,12,13,20,15)\n",
    "t2 =(14,15,19,16,17)\n",
    "concatenate = t1 + t2\n",
    "sort = tuple(sorted(concatenate))\n",
    "print(sort)"
   ]
  },
  {
   "cell_type": "markdown",
   "id": "8e14bccd-6cb9-4c14-9174-105c3c6ff044",
   "metadata": {},
   "source": [
    "#### 14.Count the frequency of an element in a tuple without using count()."
   ]
  },
  {
   "cell_type": "code",
   "execution_count": 51,
   "id": "26a08799-9060-4899-9533-ebc525592f4a",
   "metadata": {},
   "outputs": [
    {
     "name": "stdout",
     "output_type": "stream",
     "text": [
      "frequency element 3\n"
     ]
    }
   ],
   "source": [
    "t = (11,12,13,20,11,12,20,15,20)\n",
    "element = 20\n",
    "freq = 0\n",
    "\n",
    "for i in t:\n",
    "    if i == element:\n",
    "        freq += 1\n",
    "\n",
    "print(\"frequency element\", freq)       "
   ]
  },
  {
   "cell_type": "markdown",
   "id": "0dffa432-04c7-4164-b662-a7e3e6bd0870",
   "metadata": {},
   "source": [
    "#### 15.From a tuple of numbers,create two tuples:one with even numbers and one with odd number"
   ]
  },
  {
   "cell_type": "code",
   "execution_count": 53,
   "id": "7aefa74a-4f05-4427-ae69-865552f50fa2",
   "metadata": {},
   "outputs": [
    {
     "name": "stdout",
     "output_type": "stream",
     "text": [
      "even number tuple: [10, 20, 30, 40, 50]\n",
      "odd number tuple: [5, 15, 25, 35, 45]\n"
     ]
    }
   ],
   "source": [
    "t = (5,10,15,20,25,30,35,40,45,50)\n",
    "\n",
    "even_list = []\n",
    "odd_list = []\n",
    "\n",
    "for num in t:\n",
    "    if num % 2==0:\n",
    "        even_list.append(num)\n",
    "    else:\n",
    "        odd_list.append(num)\n",
    "\n",
    "print(\"even number tuple:\", even_list)\n",
    "print(\"odd number tuple:\", odd_list)"
   ]
  },
  {
   "cell_type": "code",
   "execution_count": null,
   "id": "220a99f2-3d91-4f15-ae5e-ea77e1bb3ba4",
   "metadata": {},
   "outputs": [],
   "source": []
  },
  {
   "cell_type": "markdown",
   "id": "b4d6bc31-df58-48ec-b7a5-40f9a5cc8c08",
   "metadata": {},
   "source": [
    "### D.Set"
   ]
  },
  {
   "cell_type": "markdown",
   "id": "a98073d2-26f0-4065-85fb-1ff93d026578",
   "metadata": {},
   "source": [
    "#### 16.Perform union,intersection and difference of two sets without using built-in operators."
   ]
  },
  {
   "cell_type": "code",
   "execution_count": 4,
   "id": "1f00cb58-0a06-43ff-ba29-f1aa61c3e01a",
   "metadata": {},
   "outputs": [
    {
     "name": "stdout",
     "output_type": "stream",
     "text": [
      "Union: {18, 19, 20, 11, 12, 13}\n"
     ]
    }
   ],
   "source": [
    "# Union\n",
    "A = {11,12,13}\n",
    "B = {18,19,20}\n",
    "set = A | B\n",
    "print(\"Union:\", set)"
   ]
  },
  {
   "cell_type": "code",
   "execution_count": 8,
   "id": "3d9ba49c-102a-4836-8e93-d51b52b073ae",
   "metadata": {},
   "outputs": [
    {
     "name": "stdout",
     "output_type": "stream",
     "text": [
      "intersection: {3, 4}\n"
     ]
    }
   ],
   "source": [
    "# Intersection\n",
    "A = {1,2,3,4}\n",
    "B = {3,4,5,6}\n",
    "intersection = A & B\n",
    "print(\"intersection:\", intersection)"
   ]
  },
  {
   "cell_type": "code",
   "execution_count": 11,
   "id": "18b8a2bd-dc25-4b54-9c97-2190b8d0e2d3",
   "metadata": {},
   "outputs": [
    {
     "name": "stdout",
     "output_type": "stream",
     "text": [
      "difference (A-B): {11, 12, 13}\n"
     ]
    }
   ],
   "source": [
    "# Difference\n",
    "A = {11,12,13}\n",
    "B = {14,15,16}\n",
    "difference_result = A-B\n",
    "print(\"difference (A-B):\", difference_result)"
   ]
  },
  {
   "cell_type": "markdown",
   "id": "b18aba3f-a42e-41a6-8248-78d17cec63af",
   "metadata": {},
   "source": [
    "#### 17.Remove a random element from a set(without using pop())"
   ]
  },
  {
   "cell_type": "code",
   "execution_count": 12,
   "id": "f963583e-e526-4bcb-b32b-b5b300355014",
   "metadata": {},
   "outputs": [],
   "source": [
    "a = {11,12,13,14,15}\n",
    "a.remove(13)"
   ]
  },
  {
   "cell_type": "code",
   "execution_count": 13,
   "id": "c42e478e-0779-43dc-b8a6-fd780726db6b",
   "metadata": {},
   "outputs": [
    {
     "data": {
      "text/plain": [
       "{11, 12, 14, 15}"
      ]
     },
     "execution_count": 13,
     "metadata": {},
     "output_type": "execute_result"
    }
   ],
   "source": [
    "a"
   ]
  },
  {
   "cell_type": "markdown",
   "id": "b9a6dec0-d3cd-4658-a460-35e323099966",
   "metadata": {},
   "source": [
    "#### 18.Convert a list into a set and check if duplicates are removed."
   ]
  },
  {
   "cell_type": "code",
   "execution_count": 1,
   "id": "80f7588a-11c6-4c39-8792-0af8f6483cb1",
   "metadata": {},
   "outputs": [
    {
     "name": "stdout",
     "output_type": "stream",
     "text": [
      "Original List: [10, 20, 20, 30, 40, 40, 50]\n",
      "Converted list: {40, 10, 50, 20, 30}\n"
     ]
    }
   ],
   "source": [
    "l1 = [10,20,20,30,40,40,50]\n",
    "\n",
    "# Convert list into set\n",
    "unique_set = set(l1)\n",
    "\n",
    "print(\"Original List:\", l1)\n",
    "print(\"Converted list:\", unique_set)"
   ]
  },
  {
   "cell_type": "markdown",
   "id": "d1f0ea8e-ff1b-4dd8-95d6-07b945ce9f3b",
   "metadata": {},
   "source": [
    "#### 19.Check if two sets are disjoint."
   ]
  },
  {
   "cell_type": "code",
   "execution_count": 2,
   "id": "67bd96a5-216e-4fb2-8c71-3a82131ea2c3",
   "metadata": {},
   "outputs": [
    {
     "data": {
      "text/plain": [
       "True"
      ]
     },
     "execution_count": 2,
     "metadata": {},
     "output_type": "execute_result"
    }
   ],
   "source": [
    "a = {11,12}\n",
    "b = {19,20}\n",
    "\n",
    "a.isdisjoint(b)"
   ]
  },
  {
   "cell_type": "markdown",
   "id": "1a4d1747-cea7-42a3-be83-e0fac9f1005a",
   "metadata": {},
   "source": [
    "#### 20.Find the sum of all element in a set."
   ]
  },
  {
   "cell_type": "code",
   "execution_count": 3,
   "id": "10f8101c-9172-4409-9f07-fa69d66aae0a",
   "metadata": {},
   "outputs": [
    {
     "data": {
      "text/plain": [
       "124"
      ]
     },
     "execution_count": 3,
     "metadata": {},
     "output_type": "execute_result"
    }
   ],
   "source": [
    "d = {11,12,14,15,20,25,27}\n",
    "sum(d)"
   ]
  },
  {
   "cell_type": "code",
   "execution_count": null,
   "id": "d1a7c26d-40ad-4c94-8e99-dc28a67f3621",
   "metadata": {},
   "outputs": [],
   "source": []
  },
  {
   "cell_type": "markdown",
   "id": "8d876b61-caf2-4bfa-b44c-fb5c4445b0e7",
   "metadata": {},
   "source": [
    "### 5.Dictionary"
   ]
  },
  {
   "cell_type": "markdown",
   "id": "f6c10d8e-f109-4472-bb91-bc225b1881be",
   "metadata": {},
   "source": [
    "#### 21.Create a dictionary and print keys in asending order."
   ]
  },
  {
   "cell_type": "code",
   "execution_count": 1,
   "id": "b237057b-36e9-4821-9253-c54c305bdbdd",
   "metadata": {},
   "outputs": [
    {
     "name": "stdout",
     "output_type": "stream",
     "text": [
      "original d1: {'darshan': 11, 'vinod': 12, 'rozi': 20}\n",
      "keys in asending order: ['darshan', 'rozi', 'vinod']\n"
     ]
    }
   ],
   "source": [
    "d1 = {\"darshan\":11, \"vinod\":12, \"rozi\":20}\n",
    "print(\"original d1:\", d1)\n",
    "print(\"keys in asending order:\", sorted(d1.keys()))"
   ]
  },
  {
   "cell_type": "markdown",
   "id": "525eb706-f506-4e7a-ab5b-5f187234deda",
   "metadata": {},
   "source": [
    "#### 22.Add a new key to a dictionary with value equal to the sum of existing values."
   ]
  },
  {
   "cell_type": "code",
   "execution_count": 14,
   "id": "0399b63d-36a4-419d-a347-b285c5f917bb",
   "metadata": {},
   "outputs": [
    {
     "name": "stdout",
     "output_type": "stream",
     "text": [
      "300\n",
      "{'a': 50, 'b': 100, 'c': 150, 'd': 300}\n"
     ]
    }
   ],
   "source": [
    "d2 = {\"a\":50, \"b\":100, \"c\":150}\n",
    "d = sum(d2.values())\n",
    "\n",
    "d2[\"d\"]=300\n",
    "print(d)\n",
    "print(d2)"
   ]
  },
  {
   "cell_type": "markdown",
   "id": "2f45ea88-36e9-4956-9b9b-2bbfabe51b91",
   "metadata": {},
   "source": [
    "#### 23.Merge two dictionaries into one."
   ]
  },
  {
   "cell_type": "code",
   "execution_count": 15,
   "id": "83858d07-5138-472f-8d37-ebf1d559c391",
   "metadata": {},
   "outputs": [
    {
     "name": "stdout",
     "output_type": "stream",
     "text": [
      "{'darshan': 11, 'vinod': 12, 'rozi': 20, 'smita': 14}\n"
     ]
    }
   ],
   "source": [
    "d1 = {\"darshan\":11, \"vinod\":12}\n",
    "d2 = {\"rozi\":20, \"smita\":14}\n",
    "d1.update(d2)\n",
    "print(d1)"
   ]
  },
  {
   "cell_type": "markdown",
   "id": "136f7f8a-4513-44b2-8212-ab06a3788f66",
   "metadata": {},
   "source": [
    "#### 24.Find the key with the largest value in a dictionary."
   ]
  },
  {
   "cell_type": "code",
   "execution_count": 17,
   "id": "76069f23-e0c9-4ea3-b16c-1aefd1868c9a",
   "metadata": {},
   "outputs": [
    {
     "name": "stdout",
     "output_type": "stream",
     "text": [
      "rozi\n"
     ]
    }
   ],
   "source": [
    "d = {\"darshan\":11, \"vinod\":12, \"rozi\":20}\n",
    "print(max(d,key = d.get))"
   ]
  },
  {
   "cell_type": "markdown",
   "id": "ef569e0f-40a9-4a1b-bdf9-88810f918263",
   "metadata": {},
   "source": [
    "#### 25.Store the freqency of character of a string in a dictionary."
   ]
  },
  {
   "cell_type": "code",
   "execution_count": 19,
   "id": "b5f64031-90c8-451b-93fc-7c377c780a8e",
   "metadata": {},
   "outputs": [
    {
     "name": "stdout",
     "output_type": "stream",
     "text": [
      "{'t': 1, 'p': 1, 's': 2, 'n': 1, 'e': 3, 'i': 1, 'r': 2}\n"
     ]
    }
   ],
   "source": [
    "a = \"enterprises\"\n",
    "freq ={ch:a.count(ch) for ch in set (a)}\n",
    "print(freq)"
   ]
  },
  {
   "cell_type": "code",
   "execution_count": null,
   "id": "053a3af1-0845-417e-8c2d-2bbdaca2adc8",
   "metadata": {},
   "outputs": [],
   "source": []
  },
  {
   "cell_type": "markdown",
   "id": "86fadd2b-1c8f-4468-a6c2-3a9c7ad967fe",
   "metadata": {},
   "source": [
    "### 6.Conditional Statements"
   ]
  },
  {
   "cell_type": "markdown",
   "id": "07c60830-1b51-413d-b4b9-400c9988a4ac",
   "metadata": {},
   "source": [
    "#### 26.Take age as input and check if the person is eligible to vote or not."
   ]
  },
  {
   "cell_type": "code",
   "execution_count": 4,
   "id": "a00e930d-2fc3-499c-9c2a-57b1a84e7bfc",
   "metadata": {},
   "outputs": [
    {
     "name": "stdin",
     "output_type": "stream",
     "text": [
      "Enter the age 21\n"
     ]
    },
    {
     "name": "stdout",
     "output_type": "stream",
     "text": [
      "You are eligible for voting\n"
     ]
    }
   ],
   "source": [
    "age = int(input(\"Enter the age\"))\n",
    "\n",
    "if age >= 18:\n",
    "    print(\"You are eligible for voting\")\n",
    "else:\n",
    "    print(\"You are not eligible for voting\")"
   ]
  },
  {
   "cell_type": "markdown",
   "id": "40bcc1db-7205-4f72-89e6-1c43db066d0b",
   "metadata": {},
   "source": [
    "#### 27.Find the largest among three numbers(using nested if)."
   ]
  },
  {
   "cell_type": "code",
   "execution_count": 7,
   "id": "7898378d-62f9-4351-9afe-112f5523c5b8",
   "metadata": {},
   "outputs": [
    {
     "name": "stdout",
     "output_type": "stream",
     "text": [
      "c is largest all over three variable\n"
     ]
    }
   ],
   "source": [
    "a = 11\n",
    "b = 12\n",
    "c = 20\n",
    "\n",
    "if a >= b:\n",
    "    print(\"this condition is false\")\n",
    "    if c >= b:\n",
    "        print(\"this condition is true\")\n",
    "    else:\n",
    "        print(\"20 is the largest number \")\n",
    "else:\n",
    "    print(\"c is largest all over three variable\")"
   ]
  },
  {
   "cell_type": "markdown",
   "id": "d3eb04ee-4556-4da4-9d6e-31a6c6f43e2d",
   "metadata": {},
   "source": [
    "### 28.Check if a given number is prime or not."
   ]
  },
  {
   "cell_type": "code",
   "execution_count": 11,
   "id": "d395c084-cada-44fa-b04e-11fd7d481176",
   "metadata": {},
   "outputs": [
    {
     "name": "stdin",
     "output_type": "stream",
     "text": [
      "Enter a number 59\n"
     ]
    },
    {
     "name": "stdout",
     "output_type": "stream",
     "text": [
      "it is a prime number\n"
     ]
    }
   ],
   "source": [
    "n = int(input(\"Enter a number\"))\n",
    "\n",
    "if n==2:\n",
    "    print(\"it is a prime number\", n)\n",
    "elif n==3:\n",
    "    print(\"it is a prime number\", n)\n",
    "\n",
    "elif n%3==0 or n%2==0:\n",
    "    print(\"it is divisible by 3 or 2\")\n",
    "else:\n",
    "    print(\"it is a prime number\")"
   ]
  },
  {
   "cell_type": "markdown",
   "id": "4a086a91-d1c1-4da6-abf8-dae7dbbd8b60",
   "metadata": {},
   "source": [
    "#### 29.Assign grade(A,B,C,Fail)based on marks input."
   ]
  },
  {
   "cell_type": "code",
   "execution_count": 28,
   "id": "4715beb5-c6c3-480e-8d94-2e489dc8ccaf",
   "metadata": {},
   "outputs": [
    {
     "name": "stdin",
     "output_type": "stream",
     "text": [
      "Enter the mark 63\n"
     ]
    },
    {
     "name": "stdout",
     "output_type": "stream",
     "text": [
      "You got B grade\n"
     ]
    }
   ],
   "source": [
    "mark = int(input(\"Enter the mark\"))\n",
    "\n",
    "if mark < 0 or mark > 100:\n",
    "    print(\"invalid mark are enter\")\n",
    "elif mark > 65 or mark <= 85:\n",
    "    print(\"You got B grade\")\n",
    "elif mark >= 86 or mark <= 95:\n",
    "    print(\"You got A grade\")\n",
    "else:\n",
    "    print(\"You got Distinction\")\n",
    "    if mark >= 95:\n",
    "        print(\"Merit\")"
   ]
  },
  {
   "cell_type": "markdown",
   "id": "883ec2c4-9c33-4d6e-b77e-a2c65c9c6352",
   "metadata": {},
   "source": [
    "#### 30.Check if a number is positive, negative or zero."
   ]
  },
  {
   "cell_type": "code",
   "execution_count": 4,
   "id": "7331b041-7167-4a60-8d7f-1ec03ed906b6",
   "metadata": {},
   "outputs": [
    {
     "name": "stdin",
     "output_type": "stream",
     "text": [
      "Enter a number:  20\n"
     ]
    },
    {
     "name": "stdout",
     "output_type": "stream",
     "text": [
      "the number is positive\n"
     ]
    }
   ],
   "source": [
    "num = int(input(\"Enter a number: \"))\n",
    "\n",
    "if num > 0:\n",
    "    print(\"the number is positive\")\n",
    "elif num < 0:\n",
    "    print(\"the number is negative\")\n",
    "else:\n",
    "    print(\"the number is zero\")"
   ]
  },
  {
   "cell_type": "code",
   "execution_count": null,
   "id": "43d7df9b-8ddf-448c-b5c4-eb4135873af8",
   "metadata": {},
   "outputs": [],
   "source": []
  },
  {
   "cell_type": "markdown",
   "id": "fd550df6-42df-42aa-b41c-ac0f29070568",
   "metadata": {},
   "source": [
    "### 7.Loops- For and While"
   ]
  },
  {
   "cell_type": "markdown",
   "id": "6e6ccab7-3bd9-4aac-ac79-0e8f0c59c9ef",
   "metadata": {},
   "source": [
    "#### 31.Print the first 10 numbers of the fibonacci series using for loop."
   ]
  },
  {
   "cell_type": "code",
   "execution_count": 11,
   "id": "6070200b-1f95-408e-9e4f-1c14aa6557a4",
   "metadata": {},
   "outputs": [
    {
     "name": "stdout",
     "output_type": "stream",
     "text": [
      "Fibonacci Series:\n",
      "0 1 1 2 3 5 8 13 21 34 "
     ]
    }
   ],
   "source": [
    "n = 10\n",
    "a,b = 0,1\n",
    "\n",
    "print(\"Fibonacci Series:\")\n",
    "\n",
    "\n",
    "for i in range(n):\n",
    "    print(a, end=\" \")\n",
    "    a,b = b, a+b\n",
    "\n",
    "    "
   ]
  },
  {
   "cell_type": "markdown",
   "id": "d7e76641-1f12-4c93-ae7b-a6b9e2a353d2",
   "metadata": {},
   "source": [
    "#### 32.find the factorial of a number using while loop."
   ]
  },
  {
   "cell_type": "code",
   "execution_count": 15,
   "id": "0bac5be9-fbd2-4f8d-a807-e2e099d9c6d9",
   "metadata": {},
   "outputs": [
    {
     "name": "stdin",
     "output_type": "stream",
     "text": [
      "enter a number 1\n"
     ]
    },
    {
     "name": "stdout",
     "output_type": "stream",
     "text": [
      "factorial of 1 is: 1\n"
     ]
    }
   ],
   "source": [
    "num = int(input(\"enter a number\"))\n",
    "fact = 1\n",
    "\n",
    "i = num\n",
    "while i >= 1:\n",
    "    fact = fact*i\n",
    "    i = i - 1\n",
    "    print(\"factorial of\", num, \"is:\", fact)"
   ]
  },
  {
   "cell_type": "markdown",
   "id": "5fb84641-30c6-49ad-ba3e-2469687b0e5c",
   "metadata": {},
   "source": [
    "#### 33.input a number and find the sum of its digit using while loop."
   ]
  },
  {
   "cell_type": "code",
   "execution_count": 21,
   "id": "b9c14883-f541-4734-bbaa-4d8552912a79",
   "metadata": {},
   "outputs": [
    {
     "name": "stdin",
     "output_type": "stream",
     "text": [
      "enter a number:  1120\n"
     ]
    },
    {
     "name": "stdout",
     "output_type": "stream",
     "text": [
      "sum of digit is: 4\n"
     ]
    }
   ],
   "source": [
    "num = input(\"enter a number: \")\n",
    "i = 0\n",
    "sum_digit = 0\n",
    "\n",
    "while i < len(num):\n",
    "    sum_digit = sum_digit + int(num[i])\n",
    "    i = i + 1\n",
    "\n",
    "print(\"sum of digit is:\", sum_digit)\n",
    "    "
   ]
  },
  {
   "cell_type": "markdown",
   "id": "0a39e377-8d65-4f6f-befd-e077c63b7189",
   "metadata": {},
   "source": [
    "#### 34.print all elements of a list in reverse order without using reverse()"
   ]
  },
  {
   "cell_type": "code",
   "execution_count": 22,
   "id": "6d7afeda-933f-45f3-99e7-198044bb3db9",
   "metadata": {},
   "outputs": [
    {
     "name": "stdout",
     "output_type": "stream",
     "text": [
      "[20, 19, 18, 17, 16, 15, 14, 13, 12, 11]\n"
     ]
    }
   ],
   "source": [
    "l1 = [11,12,13,14,15,16,17,18,19,20]\n",
    "l2 = l1[::-1]\n",
    "print(l2)"
   ]
  },
  {
   "cell_type": "markdown",
   "id": "f10ab0b3-417b-4cb9-9b03-5781794198c8",
   "metadata": {},
   "source": [
    "#### 35.print a star pattern(triangle) using nested loop"
   ]
  },
  {
   "cell_type": "code",
   "execution_count": 23,
   "id": "2cdb2f59-73ad-4efa-96fa-45bd98de3a4d",
   "metadata": {},
   "outputs": [
    {
     "name": "stdout",
     "output_type": "stream",
     "text": [
      "* \n",
      "* * \n",
      "* * * \n",
      "* * * * \n",
      "* * * * * \n",
      "* * * * * * \n",
      "* * * * * * * \n",
      "* * * * * * * * \n",
      "* * * * * * * * * \n"
     ]
    }
   ],
   "source": [
    "# number of rows\n",
    "rows = 9\n",
    "for i in range(0, rows):\n",
    "    # nested loop for each column\n",
    "    for j in range(0, i + 1):\n",
    "        # print star\n",
    "        print(\"*\", end=' ')\n",
    "    # new line after each row\n",
    "    print(\"\\r\")"
   ]
  },
  {
   "cell_type": "code",
   "execution_count": null,
   "id": "5658795a-ea70-4229-879a-a6ef8d4f3f48",
   "metadata": {},
   "outputs": [],
   "source": []
  },
  {
   "cell_type": "markdown",
   "id": "17b0843f-dec5-4b85-be91-01af64e44ddb",
   "metadata": {},
   "source": [
    "### 8. File Handling"
   ]
  },
  {
   "cell_type": "markdown",
   "id": "f33be2fa-2c47-4f38-b68d-fb0416ee4caf",
   "metadata": {},
   "source": [
    "#### 36.Write some text into a file and then read and print it."
   ]
  },
  {
   "cell_type": "code",
   "execution_count": 1,
   "id": "b113b669-ea5f-4796-8531-953d7ddb0ab5",
   "metadata": {},
   "outputs": [
    {
     "data": {
      "text/plain": [
       "'I am doing assignment question given by amit sir.'"
      ]
     },
     "execution_count": 1,
     "metadata": {},
     "output_type": "execute_result"
    }
   ],
   "source": [
    "f = open(\"darshan.txt\", \"w\")\n",
    "f.write(\"I am doing assignment question given by amit sir.\")\n",
    "f.close()\n",
    "\n",
    "f = open(\"darshan.txt\", \"r\")\n",
    "\n",
    "f.read()"
   ]
  },
  {
   "cell_type": "markdown",
   "id": "d57dc27d-6cb0-4030-9236-813dea348f2c",
   "metadata": {},
   "source": [
    "#### 37.Count the total number of lines in a file."
   ]
  },
  {
   "cell_type": "code",
   "execution_count": 3,
   "id": "a8ccb495-7118-4ba0-bfb4-36b20a7a86a4",
   "metadata": {},
   "outputs": [
    {
     "name": "stdout",
     "output_type": "stream",
     "text": [
      "lines: 0\n"
     ]
    }
   ],
   "source": [
    "f = open(\"darshan.txt\", \"r\")\n",
    "line = f.readline()\n",
    "print(\"lines:\", len(f.readline()))"
   ]
  },
  {
   "cell_type": "markdown",
   "id": "837da73b-5403-4c16-b5ca-82c93a34f3d1",
   "metadata": {},
   "source": [
    "#### 38.Count vowels and consonants in a file."
   ]
  },
  {
   "cell_type": "code",
   "execution_count": 5,
   "id": "dd7e0859-f483-40f8-a0ff-d53f4535ef20",
   "metadata": {},
   "outputs": [
    {
     "name": "stdout",
     "output_type": "stream",
     "text": [
      "Vowels: 15\n",
      "Consonants 25\n"
     ]
    }
   ],
   "source": [
    "f = open(\"darshan.txt\", \"r\")\n",
    "text = f.read()\n",
    "f.close()\n",
    "\n",
    "vowels = 0\n",
    "consonants = 0\n",
    "\n",
    "vowel_list =\"aeiou\"\n",
    "\n",
    "for ch in text:\n",
    "    if ch.isalpha():\n",
    "        if ch in \"aeiou\":\n",
    "            vowels += 1\n",
    "        else:\n",
    "            consonants +=1\n",
    "print(\"Vowels:\", vowels)\n",
    "print(\"Consonants\", consonants)"
   ]
  },
  {
   "cell_type": "markdown",
   "id": "859d679e-0099-4bd7-ab70-4586b5ecc9bd",
   "metadata": {},
   "source": [
    "#### 39.Convert the content of a file into uppercase and store it in another file."
   ]
  },
  {
   "cell_type": "code",
   "execution_count": 14,
   "id": "4ee4441c-4ecf-499e-8822-01b16cde0f99",
   "metadata": {},
   "outputs": [],
   "source": [
    "f1 = open(\"darshan.txt\", \"r\")\n",
    "content = f1.read()\n",
    "f1.close()\n",
    "\n",
    "content = content.upper()\n",
    "\n",
    "f2 = open(\"darshan1.txt\", \"w\")\n",
    "f2.write(content)\n",
    "f2.close()\n",
    "\n",
    "\n"
   ]
  },
  {
   "cell_type": "code",
   "execution_count": 9,
   "id": "39d273eb-0f60-4c8b-a2a9-ee739b0e3fda",
   "metadata": {},
   "outputs": [],
   "source": [
    "f2 = open(\"darshan1.txt\", \"r\")"
   ]
  },
  {
   "cell_type": "code",
   "execution_count": 10,
   "id": "a90fbe37-5d1d-4dfa-9e7b-b7e95a42faba",
   "metadata": {},
   "outputs": [
    {
     "data": {
      "text/plain": [
       "'I AM DOING ASSIGNMENT QUESTION GIVEN BY AMIT SIR.'"
      ]
     },
     "execution_count": 10,
     "metadata": {},
     "output_type": "execute_result"
    }
   ],
   "source": [
    "f2.read()"
   ]
  },
  {
   "cell_type": "markdown",
   "id": "4b9a3a9e-b939-4fb3-8713-a1dca27c8361",
   "metadata": {},
   "source": [
    "#### 40.Read a CSV file and print its rows."
   ]
  },
  {
   "cell_type": "code",
   "execution_count": 15,
   "id": "b90153fa-a073-4bfd-a4ff-5f7c614c65bc",
   "metadata": {},
   "outputs": [
    {
     "name": "stdout",
     "output_type": "stream",
     "text": [
      "['I am doing assignment question given by amit sir.']\n"
     ]
    }
   ],
   "source": [
    "import csv\n",
    "f = open(\"darshan.txt\", newline=\"\")\n",
    "reader = csv.reader(f)\n",
    "\n",
    "for row in reader:\n",
    "    print(row)"
   ]
  },
  {
   "cell_type": "code",
   "execution_count": null,
   "id": "5cb69cec-c833-4939-9990-de7715cb3aa9",
   "metadata": {},
   "outputs": [],
   "source": []
  },
  {
   "cell_type": "markdown",
   "id": "e722d406-553d-436c-a672-914786dcd399",
   "metadata": {},
   "source": [
    "### 9.OS Module"
   ]
  },
  {
   "cell_type": "code",
   "execution_count": 16,
   "id": "7d221188-c669-4274-8171-7680989f5fd6",
   "metadata": {},
   "outputs": [],
   "source": [
    "import os"
   ]
  },
  {
   "cell_type": "markdown",
   "id": "98cefdc6-3800-4110-9c9a-af5ef5380825",
   "metadata": {},
   "source": [
    "#### 41.Print the current working directory using os module."
   ]
  },
  {
   "cell_type": "code",
   "execution_count": 19,
   "id": "1bdc2b85-a675-457f-8c08-adf89a47d91a",
   "metadata": {},
   "outputs": [
    {
     "name": "stdout",
     "output_type": "stream",
     "text": [
      "C:\\Users\\HP\\Downloads\n"
     ]
    }
   ],
   "source": [
    "cwd = os.getcwd()      =\"cwd means current working directory\"\n",
    "print(cwd)             = \"OS :- operation system\""
   ]
  },
  {
   "cell_type": "markdown",
   "id": "7bbf03d8-7368-4a43-90fc-1ca7692712e9",
   "metadata": {},
   "source": [
    "#### 42.Create a new folder using os module and create a file inside it."
   ]
  },
  {
   "cell_type": "code",
   "execution_count": 1,
   "id": "a6e77fe1-6d5f-484f-a8e8-7646c31d4796",
   "metadata": {},
   "outputs": [],
   "source": [
    "import os"
   ]
  },
  {
   "cell_type": "code",
   "execution_count": 2,
   "id": "9e5b4e63-073c-4fbd-9672-4147cc6dd335",
   "metadata": {},
   "outputs": [],
   "source": [
    "os.mkdir(\"DARSHAN11\")\n",
    "f = open(\"DARSHAN11/newfile.txt\", \"w\")\n",
    "f.write(\"this is my new file DARSHAN11\")\n",
    "f.close()"
   ]
  },
  {
   "cell_type": "markdown",
   "id": "4e27eb84-b8cb-44be-a19f-746794991c1f",
   "metadata": {},
   "source": [
    "### 43.List all files and folders inside a directory."
   ]
  },
  {
   "cell_type": "code",
   "execution_count": 3,
   "id": "44b05f0e-a291-4557-883d-225f07757972",
   "metadata": {},
   "outputs": [
    {
     "data": {
      "text/plain": [
       "['.conda',\n",
       " '.ipynb_checkpoints',\n",
       " '.ipython',\n",
       " '.jupyter',\n",
       " '.vscode',\n",
       " '00. Python Basics.pdf',\n",
       " '01. Python_Practice_Questions.pdf',\n",
       " '3D Objects',\n",
       " 'anaconda3',\n",
       " 'AppData',\n",
       " 'Application Data',\n",
       " 'build in func practice.ipynb',\n",
       " 'condition 2 practice.ipynb',\n",
       " 'conditions 1 practice .ipynb',\n",
       " 'Contacts',\n",
       " 'Cookies',\n",
       " 'darshan.txt',\n",
       " 'DARSHAN11',\n",
       " 'dictionary func and oper practice.ipynb',\n",
       " 'Documents',\n",
       " 'Downloads',\n",
       " 'ds 1st test python.ipynb',\n",
       " 'Favorites',\n",
       " 'file handle practice.ipynb',\n",
       " 'global,map,reduce nd filter practices.ipynb',\n",
       " 'IntelGraphicsProfiles',\n",
       " 'Links',\n",
       " 'list and operation practice.ipynb',\n",
       " 'Local Settings',\n",
       " 'logfile.txt',\n",
       " 'loop-1 practice.ipynb',\n",
       " 'loop-2 practice.ipynb',\n",
       " 'loop-3 practice.ipynb',\n",
       " 'Music',\n",
       " 'My Documents',\n",
       " 'NetHood',\n",
       " 'newfile.txt',\n",
       " 'newfolder',\n",
       " 'newfolder2',\n",
       " 'NTUSER.DAT',\n",
       " 'ntuser.dat.LOG1',\n",
       " 'ntuser.dat.LOG2',\n",
       " 'NTUSER.DAT{2ad838bc-efea-11ee-a54d-000d3a94eaa1}.TM.blf',\n",
       " 'NTUSER.DAT{2ad838bc-efea-11ee-a54d-000d3a94eaa1}.TMContainer00000000000000000001.regtrans-ms',\n",
       " 'NTUSER.DAT{2ad838bc-efea-11ee-a54d-000d3a94eaa1}.TMContainer00000000000000000002.regtrans-ms',\n",
       " 'ntuser.ini',\n",
       " 'Numpy practice.ipynb',\n",
       " 'OneDrive',\n",
       " 'Pandas-1 practice.ipynb',\n",
       " 'Pandas-2 practice.ipynb',\n",
       " 'PrintHood',\n",
       " 'Python basic practice.ipynb',\n",
       " 'python practice question and answer.ipynb',\n",
       " 'PYTHON Practices',\n",
       " 'Python-2',\n",
       " 'Recent',\n",
       " 'Regular expression practice.ipynb',\n",
       " 'Saved Games',\n",
       " 'Searches',\n",
       " 'SendTo',\n",
       " 'set and operation practice.ipynb',\n",
       " 'Start Menu',\n",
       " 'string and operation practice.ipynb',\n",
       " 'Templates',\n",
       " 'test que and answer- 2.ipynb',\n",
       " 'Try and Excpt, logging practice.ipynb',\n",
       " 'tuple and operaton practice.ipynb',\n",
       " 'Untitled.ipynb',\n",
       " 'user define func-2 practice.ipynb',\n",
       " 'user define function practice.ipynb',\n",
       " 'Videos']"
      ]
     },
     "execution_count": 3,
     "metadata": {},
     "output_type": "execute_result"
    }
   ],
   "source": [
    "os.listdir()"
   ]
  },
  {
   "cell_type": "markdown",
   "id": "6c30d63c-bd0c-42a1-b0c9-12409c25b108",
   "metadata": {},
   "source": [
    "#### 44.Check the size of a file using os module."
   ]
  },
  {
   "cell_type": "code",
   "execution_count": 2,
   "id": "c4055e0b-9add-4031-ba9f-793c469a6b8a",
   "metadata": {},
   "outputs": [],
   "source": [
    "import os"
   ]
  },
  {
   "cell_type": "code",
   "execution_count": 10,
   "id": "d96c2539-2146-4098-9845-52f8445ce77a",
   "metadata": {},
   "outputs": [
    {
     "name": "stdout",
     "output_type": "stream",
     "text": [
      "file size of darshan.txt is: 43 bytes\n"
     ]
    }
   ],
   "source": [
    "import os\n",
    "\n",
    "filename = \"darshan.txt\"\n",
    "size = os.path.getsize(filename)\n",
    "print(f\"file size of {filename} is: {size} bytes\")"
   ]
  },
  {
   "cell_type": "code",
   "execution_count": null,
   "id": "6e5f41c4-a732-4135-a3a0-5cdf62438150",
   "metadata": {},
   "outputs": [],
   "source": []
  },
  {
   "cell_type": "markdown",
   "id": "0bfc9590-d052-4fa1-bb8b-1923b6054852",
   "metadata": {},
   "source": [
    "### 10.Try-Exception"
   ]
  },
  {
   "cell_type": "markdown",
   "id": "59134b18-6bab-4b94-88b2-f93d31c3dce5",
   "metadata": {},
   "source": [
    "#### 46.Write a program that takes user input and print its square.Handle errors if input is invalid"
   ]
  },
  {
   "cell_type": "code",
   "execution_count": 2,
   "id": "6638939a-f677-4d9a-abd7-cf0c5ce5c101",
   "metadata": {},
   "outputs": [
    {
     "name": "stdin",
     "output_type": "stream",
     "text": [
      "Enter a number:  20\n"
     ]
    },
    {
     "name": "stdout",
     "output_type": "stream",
     "text": [
      "square is: 400\n"
     ]
    }
   ],
   "source": [
    "try:\n",
    "    num = int(input(\"Enter a number: \"))\n",
    "    print(\"square is:\", num**2)\n",
    "except ValueError:\n",
    "    print(\"Invalid input! Please enter a number\")"
   ]
  },
  {
   "cell_type": "markdown",
   "id": "27639061-4f59-4ff4-8d7d-8910c22505e8",
   "metadata": {},
   "source": [
    "#### 47.Handle Zero Division Error with an example program."
   ]
  },
  {
   "cell_type": "code",
   "execution_count": 8,
   "id": "874eafb9-b0a1-422b-b02c-be66feb1cb8d",
   "metadata": {},
   "outputs": [
    {
     "name": "stdin",
     "output_type": "stream",
     "text": [
      "Enter numerator:  0\n",
      "Enter denominator:  0\n"
     ]
    },
    {
     "name": "stdout",
     "output_type": "stream",
     "text": [
      "Error! Cannot divide by zero.\n"
     ]
    }
   ],
   "source": [
    "try:\n",
    "    a = int(input(\"Enter numerator: \"))\n",
    "    b = int(input(\"Enter denominator: \"))\n",
    "    result = int(a / b)\n",
    "    print(\"Result:\", result)\n",
    "except ZeroDivisionError:\n",
    "    print(\"Error! Cannot divide by zero.\")"
   ]
  },
  {
   "cell_type": "markdown",
   "id": "0aa9a5b5-718c-4a15-8732-808c62a0f2b1",
   "metadata": {},
   "source": [
    "#### 48.Handle FileNotFoundError with an example program."
   ]
  },
  {
   "cell_type": "code",
   "execution_count": 2,
   "id": "7792d31c-ca90-463d-9efe-116d77a2de0a",
   "metadata": {},
   "outputs": [
    {
     "name": "stdout",
     "output_type": "stream",
     "text": [
      "File not found\n"
     ]
    }
   ],
   "source": [
    "try:\n",
    "    f = open(\"demo.txt\", \"r\")\n",
    "    print(f.read())\n",
    "    f.close()\n",
    "except FileNotFoundError:\n",
    "    print(\"File not found\")"
   ]
  },
  {
   "cell_type": "markdown",
   "id": "3cf2f87f-6a42-4539-9309-7c7c6b9f0386",
   "metadata": {},
   "source": [
    "#### 49.Handle both ValueError and TypeError with an example."
   ]
  },
  {
   "cell_type": "code",
   "execution_count": 7,
   "id": "d1c6ae85-24dc-48b4-860f-461ac3e31342",
   "metadata": {},
   "outputs": [
    {
     "name": "stdin",
     "output_type": "stream",
     "text": [
      "Enter a number:  43\n"
     ]
    },
    {
     "name": "stdout",
     "output_type": "stream",
     "text": [
      "Error: you can not add two data types\n"
     ]
    }
   ],
   "source": [
    "try:\n",
    "    num = int(input(\"Enter a number: \"))\n",
    "    result = num + \"20\"\n",
    "    print(\"result:\", result)\n",
    "except ValueError:\n",
    "    print(\"Error: you enter wrong number\")\n",
    "except TypeError:\n",
    "    print(\"Error: you can not add two data types\")"
   ]
  },
  {
   "cell_type": "markdown",
   "id": "3f8a3333-41ce-4b94-8dd4-9959483bb0c1",
   "metadata": {},
   "source": [
    "#### 50.Write a program with finally block that opens and close a file."
   ]
  },
  {
   "cell_type": "code",
   "execution_count": 1,
   "id": "345eb190-7d48-4580-a918-74c55e48a667",
   "metadata": {},
   "outputs": [
    {
     "name": "stdout",
     "output_type": "stream",
     "text": [
      "file written success\n",
      "file will be close successfully\n"
     ]
    }
   ],
   "source": [
    "try:\n",
    "    file = open(\"demo2.txt\", \"w\")\n",
    "    file.write(\"last que of this assignment\")\n",
    "    print(\"file written success\")\n",
    "\n",
    "except Exception as e:\n",
    "    print(\"an error occur:\", e)\n",
    "\n",
    "finally:\n",
    "    file.close()\n",
    "    print(\"file will be close successfully\")"
   ]
  }
 ],
 "metadata": {
  "kernelspec": {
   "display_name": "Python 3 (ipykernel)",
   "language": "python",
   "name": "python3"
  },
  "language_info": {
   "codemirror_mode": {
    "name": "ipython",
    "version": 3
   },
   "file_extension": ".py",
   "mimetype": "text/x-python",
   "name": "python",
   "nbconvert_exporter": "python",
   "pygments_lexer": "ipython3",
   "version": "3.13.5"
  }
 },
 "nbformat": 4,
 "nbformat_minor": 5
}
