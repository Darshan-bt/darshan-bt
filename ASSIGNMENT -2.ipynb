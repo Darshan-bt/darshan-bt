{
 "cells": [
  {
   "cell_type": "markdown",
   "id": "5f9525a7-3b82-461c-9464-e856b0bd3dde",
   "metadata": {},
   "source": [
    "### 1.User-Defined Function"
   ]
  },
  {
   "cell_type": "markdown",
   "id": "a578d494-0aff-42d1-bee8-e8f28d316ffc",
   "metadata": {},
   "source": [
    "#### 1.Write a function to calculate the factorial of a number(without recursion)"
   ]
  },
  {
   "cell_type": "code",
   "execution_count": 3,
   "id": "fac45c92-3ffe-478d-a72e-acaf03960fdf",
   "metadata": {},
   "outputs": [],
   "source": [
    "def factorial(n):                                          ## 1st way\n",
    "    \"\"\"\n",
    "    Calculate the factorial of a non-negative integer n.\n",
    "\n",
    "    Parameters:\n",
    "    n(int): The number to calculate factorial for.\n",
    "\n",
    "    Returns:\n",
    "    int: the factorial of n.\n",
    "    \"\"\"\n",
    "    if n < 0:\n",
    "        raise ValueError(\"Factorial is not define for negative number\")\n",
    "    if n==0 or n==1:\n",
    "        return 1\n",
    "    return n * factorial(n - 1)"
   ]
  },
  {
   "cell_type": "code",
   "execution_count": 6,
   "id": "a808ec2b-09e5-4c31-bac4-b2045cce0b75",
   "metadata": {},
   "outputs": [
    {
     "data": {
      "text/plain": [
       "40320"
      ]
     },
     "execution_count": 6,
     "metadata": {},
     "output_type": "execute_result"
    }
   ],
   "source": [
    "factorial(8)"
   ]
  },
  {
   "cell_type": "code",
   "execution_count": 8,
   "id": "5c142ff3-59e0-4542-a625-89be775638d1",
   "metadata": {},
   "outputs": [
    {
     "name": "stdin",
     "output_type": "stream",
     "text": [
      "Enter a number: 5\n"
     ]
    },
    {
     "name": "stdout",
     "output_type": "stream",
     "text": [
      "factorial of 5 is: 120\n"
     ]
    }
   ],
   "source": [
    "def factorial(n):                                  ##2nd way\n",
    "    result = 1\n",
    "    for i in range(1, n + 1):\n",
    "        result = result * i\n",
    "    return result\n",
    "    \n",
    "num = int(input(\"Enter a number:\"))\n",
    "print(\"factorial of\", num, \"is:\", factorial(num))"
   ]
  },
  {
   "cell_type": "markdown",
   "id": "570ee65d-a622-4723-836c-58d735e5399a",
   "metadata": {},
   "source": [
    "#### 2.Write a function to check if a number is Armstrong or not."
   ]
  },
  {
   "cell_type": "code",
   "execution_count": 4,
   "id": "b5ef20f3-6085-4da3-b1e9-b8d09af2b4dc",
   "metadata": {},
   "outputs": [
    {
     "name": "stdin",
     "output_type": "stream",
     "text": [
      "enter a number 153\n"
     ]
    },
    {
     "name": "stdout",
     "output_type": "stream",
     "text": [
      "the enter number is armstrong\n"
     ]
    }
   ],
   "source": [
    "def is_armstrong(num):\n",
    "    n = len(str(num))\n",
    "    sum_of_powers = sum(int(digit) ** n for digit in str(num))\n",
    "\n",
    "    if sum_of_powers == num:\n",
    "        return(\"it is true\")\n",
    "    else:\n",
    "        return(\"it is false\")\n",
    "\n",
    "number = int(input(\"enter a number\"))\n",
    "\n",
    "if is_armstrong(number):\n",
    "    print(\"the enter number is armstrong\")\n",
    "else:\n",
    "    print(\"the enter number is not armstrong\")"
   ]
  },
  {
   "cell_type": "markdown",
   "id": "5be19983-21aa-4270-9dcf-435c781f63aa",
   "metadata": {},
   "source": [
    "### 3.Write a function that takes a list of number and return only even number."
   ]
  },
  {
   "cell_type": "code",
   "execution_count": 12,
   "id": "57961579-d6b4-4c59-9a39-e166938757f8",
   "metadata": {},
   "outputs": [
    {
     "name": "stdout",
     "output_type": "stream",
     "text": [
      "original list: [11, 12, 13, 14, 15, 16, 17, 18, 19, 20]\n",
      "even numbers: [12, 14, 16, 18, 20]\n"
     ]
    }
   ],
   "source": [
    "l1 = [11,12,13,14,15,16,17,18,19,20]\n",
    "\n",
    "def get_even_numbers(numbers):\n",
    "    even_list = []\n",
    "    for num  in numbers:\n",
    "        if num % 2 == 0:\n",
    "            even_list.append(num)\n",
    "    return even_list\n",
    "\n",
    "print(\"original list:\", l1)\n",
    "print(\"even numbers:\", get_even_numbers(l1))"
   ]
  },
  {
   "cell_type": "markdown",
   "id": "efb2f573-ddb2-420a-bb7d-296bd60b4114",
   "metadata": {},
   "source": [
    "#### 4.Write a function that takes a string and return the reverse of the string."
   ]
  },
  {
   "cell_type": "code",
   "execution_count": 2,
   "id": "6d560abd-d416-4f2d-b027-e0c7f988ee8e",
   "metadata": {},
   "outputs": [],
   "source": [
    "def reverse_string(s):                             ## 1st way\n",
    "    \"\"\"\n",
    "    Reverse the input string.\n",
    "\n",
    "    Parameters:\n",
    "    s (str):The string to reverse.\n",
    "\n",
    "    Returns:\n",
    "    str: The reversed string.\n",
    "    \"\"\"\n",
    "\n",
    "    return s[::-1]"
   ]
  },
  {
   "cell_type": "code",
   "execution_count": 4,
   "id": "02f6fb77-ef18-416e-8421-c6cdc61ed9c4",
   "metadata": {},
   "outputs": [
    {
     "data": {
      "text/plain": [
       "'nohtyp'"
      ]
     },
     "execution_count": 4,
     "metadata": {},
     "output_type": "execute_result"
    }
   ],
   "source": [
    "reverse_string(\"python\")"
   ]
  },
  {
   "cell_type": "code",
   "execution_count": 7,
   "id": "079006b4-42b4-4e2e-8de0-74fa3592168c",
   "metadata": {},
   "outputs": [
    {
     "name": "stdin",
     "output_type": "stream",
     "text": [
      "Enter a string 112102\n"
     ]
    },
    {
     "name": "stdout",
     "output_type": "stream",
     "text": [
      "reverse string: 201211\n"
     ]
    }
   ],
   "source": [
    "def reverse_string(s):                                      ## 2nd way\n",
    "    return s[::-1]\n",
    "\n",
    "text = input(\"Enter a string\")\n",
    "print(\"reverse string:\", reverse_string(text))"
   ]
  },
  {
   "cell_type": "markdown",
   "id": "2ad821d3-7534-4623-83ed-f42c4b1c2d3e",
   "metadata": {},
   "source": [
    "#### 5.Write a recursive function to calculate Fibonacci series up to n terms."
   ]
  },
  {
   "cell_type": "code",
   "execution_count": 2,
   "id": "1002a079-802e-43f9-8666-b6d7cb26ba35",
   "metadata": {},
   "outputs": [
    {
     "name": "stdin",
     "output_type": "stream",
     "text": [
      "enter a number 8\n"
     ]
    },
    {
     "name": "stdout",
     "output_type": "stream",
     "text": [
      "fibonacci series:\n",
      "0\n",
      "1\n",
      "1\n",
      "2\n",
      "3\n",
      "5\n",
      "8\n",
      "13\n"
     ]
    }
   ],
   "source": [
    "def fibonacci(n):\n",
    "    if n <= 1:\n",
    "        return n\n",
    "    else:\n",
    "        return fibonacci(n-1) + fibonacci(n-2)\n",
    "\n",
    "term = int(input(\"enter a number\"))\n",
    "\n",
    "print(\"fibonacci series:\")\n",
    "for i in range(term):\n",
    "    print(fibonacci(i))"
   ]
  },
  {
   "cell_type": "code",
   "execution_count": null,
   "id": "d2ab5813-7ea7-4b1d-9545-b52c094cfe42",
   "metadata": {},
   "outputs": [],
   "source": []
  },
  {
   "cell_type": "markdown",
   "id": "8b0bcf67-d446-4f04-93dc-74100d963c56",
   "metadata": {},
   "source": [
    "### 2. Lambda Function"
   ]
  },
  {
   "cell_type": "code",
   "execution_count": null,
   "id": "3e3cc41e-35d2-4703-b24a-a6626c9c3c70",
   "metadata": {},
   "outputs": [],
   "source": [
    "6.Write a lambda function to find the maximum of two "
   ]
  },
  {
   "cell_type": "code",
   "execution_count": 3,
   "id": "8ad3e618-d9aa-42eb-a12d-8cfaa7b8f9e2",
   "metadata": {},
   "outputs": [
    {
     "data": {
      "text/plain": [
       "12"
      ]
     },
     "execution_count": 3,
     "metadata": {},
     "output_type": "execute_result"
    }
   ],
   "source": [
    "b = 12 \n",
    "c = 20 \n",
    "\n",
    "Max = lambda b,c : b if(b > c) else b\n",
    "\n",
    "Max(12,20)"
   ]
  },
  {
   "cell_type": "markdown",
   "id": "25b8ffb3-98c6-45ad-ad95-c776499144cb",
   "metadata": {},
   "source": [
    "#### 7.Write a lambda function to count vowels in a given string."
   ]
  },
  {
   "cell_type": "code",
   "execution_count": 4,
   "id": "ac81d227-93e1-4ce7-b992-f143c87eb0bd",
   "metadata": {},
   "outputs": [
    {
     "name": "stdin",
     "output_type": "stream",
     "text": [
      "enter a string data science\n"
     ]
    },
    {
     "name": "stdout",
     "output_type": "stream",
     "text": [
      "Vowel count: 5\n"
     ]
    }
   ],
   "source": [
    "v = input(str(\"enter a string\"))\n",
    "\n",
    "count_vowels = lambda s:sum(1 for ch in s.lower() if ch in \"aeiou\")\n",
    "\n",
    "print(\"Vowel count:\", count_vowels(v))"
   ]
  },
  {
   "cell_type": "markdown",
   "id": "3627e3c1-7a41-4205-a9d9-74f42a0256f4",
   "metadata": {},
   "source": [
    "#### 8.Use a lambda with map() to convert a list of integers into their cubes."
   ]
  },
  {
   "cell_type": "code",
   "execution_count": 6,
   "id": "eda43422-c4ae-40a1-961c-71e47bc1d3cd",
   "metadata": {},
   "outputs": [
    {
     "data": {
      "text/plain": [
       "[1, 8, 27, 64, 125]"
      ]
     },
     "execution_count": 6,
     "metadata": {},
     "output_type": "execute_result"
    }
   ],
   "source": [
    "l1 = [1,2,3,4,5]\n",
    "\n",
    "list(map(lambda x: x**3, l1))"
   ]
  },
  {
   "cell_type": "markdown",
   "id": "2646c08a-32c5-4265-b5f3-f84ead52846f",
   "metadata": {},
   "source": [
    "### 9.Use a lambda with filter() to find numbers divisible by 5 from a list."
   ]
  },
  {
   "cell_type": "code",
   "execution_count": 1,
   "id": "674d84c7-9ded-47a5-9070-861ac545937f",
   "metadata": {},
   "outputs": [
    {
     "name": "stdout",
     "output_type": "stream",
     "text": [
      "[10, 20, 25, 30, 40]\n"
     ]
    }
   ],
   "source": [
    "numbers = [12,10,14,20,34,25,30,43,40]                       \n",
    "output = list(filter(lambda x: x % 5 == 0, numbers))\n",
    "print(output)"
   ]
  },
  {
   "cell_type": "markdown",
   "id": "9feaacfe-7d27-452b-8dc1-d7ebc74c5746",
   "metadata": {},
   "source": [
    "#### 10.Use reduce() with lambda to find the product of all numbers in a list."
   ]
  },
  {
   "cell_type": "code",
   "execution_count": 4,
   "id": "e6ea0781-a0e0-4e12-aec5-fa04d7b4320d",
   "metadata": {},
   "outputs": [],
   "source": [
    "from functools import reduce"
   ]
  },
  {
   "cell_type": "code",
   "execution_count": 5,
   "id": "418b4e87-d343-4934-997f-8c64406df20a",
   "metadata": {},
   "outputs": [
    {
     "name": "stdout",
     "output_type": "stream",
     "text": [
      "Numbers: [11, 12, 20, 14]\n",
      "Product: 36960\n"
     ]
    }
   ],
   "source": [
    "numbers = [11,12,20,14]\n",
    "\n",
    "product = reduce(lambda x, y: x * y, numbers)\n",
    "print(f\"Numbers: {numbers}\")\n",
    "print(f\"Product: {product}\")"
   ]
  },
  {
   "cell_type": "code",
   "execution_count": null,
   "id": "4468e695-2b1a-49cf-ab10-ca67babffd4c",
   "metadata": {},
   "outputs": [],
   "source": []
  },
  {
   "cell_type": "markdown",
   "id": "2b64c2d1-f73e-4609-814e-9b0bbc682e35",
   "metadata": {},
   "source": [
    "### 3. List Comprehension"
   ]
  },
  {
   "cell_type": "markdown",
   "id": "2df593d0-d75d-4b83-bad0-5ee0c6380582",
   "metadata": {},
   "source": [
    "#### 11.Create a list of square of a numbers from 1 to 20 using list comprehension."
   ]
  },
  {
   "cell_type": "code",
   "execution_count": 12,
   "id": "28cf8f0d-b46e-49db-8dcb-8089fd1ecace",
   "metadata": {},
   "outputs": [
    {
     "data": {
      "text/plain": [
       "[0,\n",
       " 1,\n",
       " 4,\n",
       " 9,\n",
       " 16,\n",
       " 25,\n",
       " 36,\n",
       " 49,\n",
       " 64,\n",
       " 81,\n",
       " 100,\n",
       " 121,\n",
       " 144,\n",
       " 169,\n",
       " 196,\n",
       " 225,\n",
       " 256,\n",
       " 289,\n",
       " 324,\n",
       " 361,\n",
       " 400]"
      ]
     },
     "execution_count": 12,
     "metadata": {},
     "output_type": "execute_result"
    }
   ],
   "source": [
    "[i**2 for i in range(21)]"
   ]
  },
  {
   "cell_type": "markdown",
   "id": "ee2ea6e2-58bb-4f9e-b7e2-2bbc524c4630",
   "metadata": {},
   "source": [
    "#### 12.Extract all words starting with vowel from a list of words."
   ]
  },
  {
   "cell_type": "code",
   "execution_count": 15,
   "id": "d22be46b-4e50-4f68-89da-bf2b3a6b24e1",
   "metadata": {},
   "outputs": [
    {
     "name": "stdout",
     "output_type": "stream",
     "text": [
      "['orange']\n"
     ]
    }
   ],
   "source": [
    "colours = [\"red\", \"blue\", \"green\", \"yellow\", \"orange\",\"white\"]\n",
    "\n",
    "vowel_words = [word for word in colours if word[0].lower() in \"aeiou\"]\n",
    "print(vowel_words)"
   ]
  },
  {
   "cell_type": "markdown",
   "id": "415d95e8-1107-40d8-ac25-161ac65f89ec",
   "metadata": {},
   "source": [
    "#### 13.Generate a list of tuple (x, x^2) for numbers from 1 to 10."
   ]
  },
  {
   "cell_type": "code",
   "execution_count": 1,
   "id": "22af858c-8cee-4830-8d8a-e945c38c25cb",
   "metadata": {},
   "outputs": [
    {
     "name": "stdout",
     "output_type": "stream",
     "text": [
      "[(1, 1), (2, 4), (3, 9), (4, 16), (5, 25), (6, 36), (7, 49), (8, 64), (9, 81), (10, 100)]\n"
     ]
    }
   ],
   "source": [
    "result = [(x, x**2) for x in range(1,11)]\n",
    "print(result)"
   ]
  },
  {
   "cell_type": "markdown",
   "id": "8dd6edee-ff83-49b8-a51c-08213a8876b7",
   "metadata": {},
   "source": [
    "#### 14.Flatten a 2D list using list comprehension."
   ]
  },
  {
   "cell_type": "code",
   "execution_count": 3,
   "id": "7672f72f-1e5a-4bd9-a332-8550cfbbd25a",
   "metadata": {},
   "outputs": [
    {
     "name": "stdout",
     "output_type": "stream",
     "text": [
      "[11, 12, 13, 14, 15, 16, 17, 18, 19, 20]\n"
     ]
    }
   ],
   "source": [
    "matrix = [[11,12,13], [14,15,16], [17,18], [19,20]]\n",
    "\n",
    "flattened = []\n",
    "for row in matrix:\n",
    "    for num in row:\n",
    "        flattened.append(num)\n",
    "\n",
    "print(flattened)"
   ]
  },
  {
   "cell_type": "markdown",
   "id": "d8fc2c46-1dcf-4c0d-9fb0-2f96abac82c1",
   "metadata": {},
   "source": [
    "#### 15.Create a list of prime numbers between 1 and 50 using list comprehension. "
   ]
  },
  {
   "cell_type": "code",
   "execution_count": 4,
   "id": "fa90ed0a-0bdb-4036-8dac-1c1b56626f8a",
   "metadata": {},
   "outputs": [
    {
     "name": "stdout",
     "output_type": "stream",
     "text": [
      "[2, 3, 5, 7, 11, 13, 17, 19, 23, 29, 31, 37, 41, 43, 47]\n"
     ]
    }
   ],
   "source": [
    "primes = [n for n in range(2, 51) if len([i for i in range(2, n) if n % i == 0]) == 0]\n",
    "print(primes)\n"
   ]
  },
  {
   "cell_type": "code",
   "execution_count": null,
   "id": "8177b2dd-a290-4026-9ae0-e7a4044e913f",
   "metadata": {},
   "outputs": [],
   "source": []
  },
  {
   "cell_type": "markdown",
   "id": "1f059fc7-2cf7-4c41-99ac-b30187c38e6c",
   "metadata": {},
   "source": [
    "### 4.Class"
   ]
  },
  {
   "cell_type": "markdown",
   "id": "4a92db6e-db9e-4fad-86ce-d9796d257806",
   "metadata": {},
   "source": [
    "#### 16.Create a class student with attributes name and marks,and a method to display detail"
   ]
  },
  {
   "cell_type": "code",
   "execution_count": 7,
   "id": "c2502498-2015-4066-af4c-039102adb860",
   "metadata": {},
   "outputs": [
    {
     "name": "stdout",
     "output_type": "stream",
     "text": [
      "Name: Darshan\n",
      "Marks: 85\n",
      "Name: Piyush\n",
      "Marks: 90\n"
     ]
    }
   ],
   "source": [
    "class Student:\n",
    "    def __init__(self, name, marks):\n",
    "        self.name = name\n",
    "        self.marks = marks\n",
    "\n",
    "    def display(self):\n",
    "        print(\"Name:\", self.name)\n",
    "        print(\"Marks:\", self.marks)\n",
    "\n",
    "s1 = Student(\"Darshan\", 85)\n",
    "s2 = Student(\"Piyush\", 90)\n",
    "\n",
    "s1.display()\n",
    "s2.display()"
   ]
  },
  {
   "cell_type": "markdown",
   "id": "142a9d2f-55ca-4508-91f8-53d5ae611abb",
   "metadata": {},
   "source": [
    "#### 17.Create a class bank account with deposit and withdraw methods."
   ]
  },
  {
   "cell_type": "code",
   "execution_count": 8,
   "id": "5b7add1d-6d78-4d5d-8d56-2fc2887e76d1",
   "metadata": {},
   "outputs": [
    {
     "name": "stdout",
     "output_type": "stream",
     "text": [
      "500 amount will be credited new balance: 1500\n",
      "300 amount will be deposited new balance: 1200\n",
      "sufficient balance will not avaiable your balance: 1200\n"
     ]
    }
   ],
   "source": [
    "class BankAccount:\n",
    "    def __init__(self, balance=0):\n",
    "        self.balance = balance\n",
    "\n",
    "    def deposit(self, amount):\n",
    "        self.balance += amount\n",
    "        print(amount, \"amount will be credited new balance:\", self.balance)\n",
    "\n",
    "    def withdraw(self, amount):\n",
    "        if amount <= self.balance:\n",
    "            self.balance -= amount\n",
    "            print(amount, \"amount will be deposited new balance:\", self.balance)\n",
    "        else:\n",
    "            print(\"sufficient balance will not avaiable your balance:\", self.balance)\n",
    "\n",
    "account1 = BankAccount(1000)\n",
    "account1.deposit(500)\n",
    "account1.withdraw(300)\n",
    "account1.withdraw(1500)"
   ]
  },
  {
   "cell_type": "markdown",
   "id": "dded1507-7e4f-41ef-882f-a2ac820280cb",
   "metadata": {},
   "source": [
    "#### 18. Create a class Circle with a method to calculate area and circumference. "
   ]
  },
  {
   "cell_type": "code",
   "execution_count": 10,
   "id": "56f215d6-41f9-41d2-841a-c0271ee76068",
   "metadata": {},
   "outputs": [
    {
     "name": "stdout",
     "output_type": "stream",
     "text": [
      "Radius: 5\n",
      "Area: 78.53981633974483\n",
      "Circumference: 31.41592653589793\n"
     ]
    }
   ],
   "source": [
    "import math\n",
    "\n",
    "class Circle:\n",
    "    def __init__(self, radius):\n",
    "        self.radius = radius\n",
    "\n",
    "    def area(self):\n",
    "        return math.pi * self.radius **2\n",
    "\n",
    "    def circumference(self):\n",
    "        return 2 * math.pi * self.radius\n",
    "\n",
    "c1 = Circle(5)\n",
    "\n",
    "print(\"Radius:\", c1.radius)\n",
    "print(\"Area:\", c1.area())\n",
    "print(\"Circumference:\", c1.circumference())"
   ]
  },
  {
   "cell_type": "markdown",
   "id": "3d0c73bb-dd27-422e-ab73-ee642545b813",
   "metadata": {},
   "source": [
    "#### 19. Create a class Employee that increases salary by 10%. "
   ]
  },
  {
   "cell_type": "code",
   "execution_count": 2,
   "id": "c84dd23d-4c53-43e5-9bd5-219aa42487fb",
   "metadata": {},
   "outputs": [
    {
     "name": "stdout",
     "output_type": "stream",
     "text": [
      "old salary: 50000\n",
      "Darshan new salary: 55000.0\n"
     ]
    }
   ],
   "source": [
    "class Employee:\n",
    "    def __init__(self, name, salary):\n",
    "        self.name = name\n",
    "        self.salary = salary\n",
    "\n",
    "    def increase_salary(self):\n",
    "        self.salary = self.salary + (self.salary * 0.10)\n",
    "        print(f\"{self.name} new salary: {self.salary}\")\n",
    "\n",
    "emp1 = Employee(\"Darshan\", 50000)\n",
    "\n",
    "print(\"old salary:\", emp1.salary)\n",
    "emp1.increase_salary()"
   ]
  },
  {
   "cell_type": "markdown",
   "id": "062a0406-91d4-4c18-9cf8-88312a1bdeef",
   "metadata": {},
   "source": [
    "#### 20.Create a class car with methods to start, stop and display status."
   ]
  },
  {
   "cell_type": "code",
   "execution_count": 3,
   "id": "8cfafe1c-50b0-4b6e-8e32-ef1d1c3a6b28",
   "metadata": {},
   "outputs": [
    {
     "name": "stdout",
     "output_type": "stream",
     "text": [
      "Scorpio present situation: OFF\n",
      "Scorpio the car was started\n",
      "Scorpio present situation: ON\n",
      "Scorpio now the engine is off\n",
      "Scorpio present situation: OFF\n"
     ]
    }
   ],
   "source": [
    "class car:\n",
    "    def __init__(self, name):\n",
    "        self.name = name\n",
    "        self.status = \"OFF\"\n",
    "\n",
    "    def start(self):\n",
    "        if self.status == \"OFF\":\n",
    "            self.status = \"ON\"\n",
    "            print(f\"{self.name} the car was started\")\n",
    "        else:\n",
    "            print(f\"{self.name} the car was already started\")\n",
    "\n",
    "    def stop(self):\n",
    "        if self.status == \"ON\":\n",
    "            self.status = \"OFF\"\n",
    "            print(f\"{self.name} now the engine is off\")\n",
    "        else:\n",
    "            print(f\"{self.name} already the engine is off\")\n",
    "\n",
    "    def display_status(self):\n",
    "        print(f\"{self.name} present situation: {self.status}\")\n",
    "\n",
    "car1 = car(\"Scorpio\")\n",
    "\n",
    "car1.display_status()\n",
    "car1.start()\n",
    "car1.display_status()\n",
    "car1.stop()\n",
    "car1.display_status()"
   ]
  },
  {
   "cell_type": "code",
   "execution_count": null,
   "id": "e54b7d9f-3e42-4f29-9b46-55c3822e21ba",
   "metadata": {},
   "outputs": [],
   "source": []
  },
  {
   "cell_type": "markdown",
   "id": "87f0fa0a-720a-40f9-a644-8b28aa602975",
   "metadata": {},
   "source": [
    "### 21.Inheritance"
   ]
  },
  {
   "cell_type": "markdown",
   "id": "0161063f-e599-4f6b-b9c0-94dc034e9832",
   "metadata": {},
   "source": [
    "#### 21.Create a base class Animal and a derived class Dog that overrides a method."
   ]
  },
  {
   "cell_type": "code",
   "execution_count": 4,
   "id": "9205914b-e2d6-4e7b-89c3-6fcd95079a55",
   "metadata": {},
   "outputs": [
    {
     "name": "stdout",
     "output_type": "stream",
     "text": [
      "animals sound are various type.\n",
      "the dog is shouting.\n"
     ]
    }
   ],
   "source": [
    "class Animal:\n",
    "    def sound(self):\n",
    "        print(\"animals sound are various type.\")\n",
    "\n",
    "class Dog(Animal):\n",
    "    def sound(self):\n",
    "        print(\"the dog is shouting.\")\n",
    "\n",
    "a = Animal()\n",
    "d = Dog()\n",
    "\n",
    "a.sound()\n",
    "d.sound()"
   ]
  },
  {
   "cell_type": "markdown",
   "id": "a551b14f-829f-4df0-9cb4-e7a17a517987",
   "metadata": {},
   "source": [
    "#### 22.Create a base class shape with method area().inherit rectangle and circle classes to implement area calculation."
   ]
  },
  {
   "cell_type": "code",
   "execution_count": 1,
   "id": "29c3d30c-91af-4216-a343-8ec0a4e17c06",
   "metadata": {},
   "outputs": [
    {
     "name": "stdout",
     "output_type": "stream",
     "text": [
      "rectangle area: 20\n",
      "circle area: 28.274333882308138\n"
     ]
    }
   ],
   "source": [
    "import math\n",
    "\n",
    "class shape:\n",
    "    def area(self):\n",
    "        return 0\n",
    "\n",
    "class rectangle(shape):\n",
    "    def __init__(self, l, b):\n",
    "        self.l = l\n",
    "        self.b = b\n",
    "\n",
    "    def area(self):\n",
    "        return self.l * self.b\n",
    "\n",
    "class circle(shape):\n",
    "    def __init__(self, r):\n",
    "        self.r = r\n",
    "\n",
    "    def area(self):\n",
    "        return math.pi * self.r**2\n",
    "\n",
    "print(\"rectangle area:\", rectangle(5, 4).area())\n",
    "print(\"circle area:\", circle(3).area())"
   ]
  },
  {
   "cell_type": "markdown",
   "id": "cd5446b5-a216-4585-835b-d028d340f2d6",
   "metadata": {},
   "source": [
    "#### 23. Create a Person class and inherit Student and Teacher from it with additional attributes. "
   ]
  },
  {
   "cell_type": "code",
   "execution_count": 4,
   "id": "afc14c7e-f6db-43d4-84e1-a58daecbbcb1",
   "metadata": {},
   "outputs": [
    {
     "name": "stdout",
     "output_type": "stream",
     "text": [
      "Student Details:\n",
      "name: Darshan\n",
      "age: 21\n",
      "student id: S20\n",
      "\n",
      "Teacher Details:\n",
      "name: Meena\n",
      "age: 35\n",
      "Subject: Mathematics\n"
     ]
    }
   ],
   "source": [
    "class person:\n",
    "    def __init__(self, name, age):\n",
    "        self.name = name\n",
    "        self.age = age\n",
    "\n",
    "    def display(self):\n",
    "        print(\"name:\", self.name)\n",
    "        print(\"age:\", self.age)\n",
    "\n",
    "class student(person):\n",
    "    def __init__(self, name, age, student_id):\n",
    "        super().__init__(name, age)\n",
    "        self.student_id = student_id\n",
    "\n",
    "    def display(self):\n",
    "        super().display()\n",
    "        print(\"student id:\", self.student_id)\n",
    "\n",
    "class teacher(person):\n",
    "    def __init__(self, name, age, subject):\n",
    "        super().__init__(name, age)\n",
    "        self.subject = subject\n",
    "\n",
    "    def display(self):\n",
    "        super().display()\n",
    "        print(\"Subject:\", self.subject)\n",
    "\n",
    "s1 = student(\"Darshan\", 21, \"S20\")\n",
    "t1 = teacher(\"Meena\", 35, \"Mathematics\")\n",
    "\n",
    "print(\"Student Details:\")\n",
    "s1.display()\n",
    "\n",
    "print(\"\\nTeacher Details:\")\n",
    "t1.display()"
   ]
  },
  {
   "cell_type": "markdown",
   "id": "8d910269-b63f-45d2-a389-5509f5e7ca1d",
   "metadata": {},
   "source": [
    "#### 24. Create a Vehicle class and inherit Car and Bike with their specific features."
   ]
  },
  {
   "cell_type": "code",
   "execution_count": 3,
   "id": "65e97b6c-107f-4865-9806-8c5bd826d3dc",
   "metadata": {},
   "outputs": [
    {
     "name": "stdout",
     "output_type": "stream",
     "text": [
      "Car Details:\n",
      "Brand: Toyota\n",
      "Model: Fortuner\n",
      "Number of Doors: 4\n",
      "\n",
      "Bike Details:\n",
      "Brand: Yamaha\n",
      "Model: R15\n",
      "Engine Capacity: 155 cc\n"
     ]
    }
   ],
   "source": [
    "class Vehicle:\n",
    "    def __init__(self, brand, model):\n",
    "        self.brand = brand\n",
    "        self.model = model\n",
    "\n",
    "    def display(self):\n",
    "        print(\"Brand:\", self.brand)\n",
    "        print(\"Model:\", self.model)\n",
    "\n",
    "class Car(Vehicle):\n",
    "    def __init__(self, brand, model, doors):\n",
    "        super().__init__(brand, model)\n",
    "        self.doors = doors\n",
    "\n",
    "    def display(self):\n",
    "        super().display()\n",
    "        print(\"Number of Doors:\", self.doors)\n",
    "\n",
    "class Bike(Vehicle):\n",
    "    def __init__(self, brand, model, engine_cc):\n",
    "        super().__init__(brand, model)\n",
    "        self.engine_cc = engine_cc\n",
    "\n",
    "    def display(self):\n",
    "        super().display()\n",
    "        print(\"Engine Capacity:\", self.engine_cc, \"cc\")\n",
    "\n",
    "c1 = Car(\"Toyota\", \"Fortuner\", 4)\n",
    "b1 = Bike(\"Yamaha\", \"R15\", 155)\n",
    "\n",
    "print(\"Car Details:\")\n",
    "c1.display()\n",
    "\n",
    "print(\"\\nBike Details:\")\n",
    "b1.display()"
   ]
  },
  {
   "cell_type": "markdown",
   "id": "44951f4c-c670-4dad-b5f6-62a6e6a738e2",
   "metadata": {},
   "source": [
    "#### 25. Demonstrate multiple inheritance with a StudentAthlete class (inheriting from Student and Athlete). \n",
    " "
   ]
  },
  {
   "cell_type": "code",
   "execution_count": 1,
   "id": "c06cb183-d961-425d-b2fc-2b8d267844f8",
   "metadata": {},
   "outputs": [
    {
     "name": "stdout",
     "output_type": "stream",
     "text": [
      "---- Student Athlete Details ----\n",
      "Student Name: Rahul\n",
      "Grade: A\n",
      "Sport: Cricket\n",
      "Rank: 1\n"
     ]
    }
   ],
   "source": [
    "\n",
    "class Student:\n",
    "    def __init__(self, name, grade):\n",
    "        self.name = name\n",
    "        self.grade = grade\n",
    "\n",
    "    def show_student(self):\n",
    "        print(\"Student Name:\", self.name)\n",
    "        print(\"Grade:\", self.grade)\n",
    "\n",
    "\n",
    "class Athlete:\n",
    "    def __init__(self, sport, rank):\n",
    "        self.sport = sport\n",
    "        self.rank = rank\n",
    "\n",
    "    def show_athlete(self):\n",
    "        print(\"Sport:\", self.sport)\n",
    "        print(\"Rank:\", self.rank)\n",
    "\n",
    "\n",
    "\n",
    "class StudentAthlete(Student, Athlete):\n",
    "    def __init__(self, name, grade, sport, rank):\n",
    "        Student.__init__(self, name, grade)\n",
    "        Athlete.__init__(self, sport, rank)\n",
    "\n",
    "    def show_details(self):\n",
    "        print(\"---- Student Athlete Details ----\")\n",
    "        self.show_student()\n",
    "        self.show_athlete()\n",
    "\n",
    "\n",
    "\n",
    "sa = StudentAthlete(\"Rahul\", \"A\", \"Cricket\", 1)\n",
    "sa.show_details()\n"
   ]
  },
  {
   "cell_type": "code",
   "execution_count": null,
   "id": "ef604988-7625-423d-aa17-67e2d8901fe4",
   "metadata": {},
   "outputs": [],
   "source": []
  },
  {
   "cell_type": "markdown",
   "id": "db0d7f54-45f5-4384-8389-c04d013528d4",
   "metadata": {},
   "source": [
    "### 6.Polymorphism"
   ]
  },
  {
   "cell_type": "markdown",
   "id": "1b132c91-917b-452c-9690-523fb12b6de0",
   "metadata": {},
   "source": [
    "#### 26. Create two classes Cat and Dog with the same method speak(). Demonstrate polymorphism."
   ]
  },
  {
   "cell_type": "code",
   "execution_count": 2,
   "id": "13661c69-bd8c-4d94-97a3-1504ec80e452",
   "metadata": {},
   "outputs": [
    {
     "name": "stdout",
     "output_type": "stream",
     "text": [
      "Woof!\n",
      "Meow!\n"
     ]
    }
   ],
   "source": [
    "class dog:\n",
    "    def speak(self):\n",
    "        return \"Woof!\"\n",
    "\n",
    "\n",
    "class cat:\n",
    "    def speak(self):\n",
    "        return \"Meow!\"\n",
    "\n",
    "def animal_sound(animal):\n",
    "    print(animal.speak())\n",
    "\n",
    "dog = dog()\n",
    "cat = cat()\n",
    "\n",
    "animal_sound(dog)\n",
    "animal_sound(cat)"
   ]
  },
  {
   "cell_type": "markdown",
   "id": "beea1c11-1070-49cb-b502-8598895a075f",
   "metadata": {},
   "source": [
    "#### 27. Demonstrate operator overloading by implementing addition of two Vector objects."
   ]
  },
  {
   "cell_type": "code",
   "execution_count": 1,
   "id": "ef722029-8914-4234-8348-60218c87081a",
   "metadata": {},
   "outputs": [
    {
     "name": "stdout",
     "output_type": "stream",
     "text": [
      "Result: 30 + 32j\n"
     ]
    }
   ],
   "source": [
    "class Complex:\n",
    "    def __init__(self, real, imag):\n",
    "        self.real = real\n",
    "        self.imag = imag\n",
    "\n",
    "    def __add__(self, other):\n",
    "        return Complex(self.real + other.real, self.imag + other.imag)\n",
    "\n",
    "    def __str__(self):\n",
    "        return f\"{self.real} + {self.imag}j\"\n",
    "\n",
    "c1 = Complex(11, 12)\n",
    "c2 = Complex(19,20)\n",
    "\n",
    "result = c1 + c2\n",
    "print(\"Result:\", result)"
   ]
  },
  {
   "cell_type": "markdown",
   "id": "29eb3287-58e1-4f9c-af9b-ff4f1532c8c6",
   "metadata": {},
   "source": [
    "#### 28.Demostrate method overloading using default parameters."
   ]
  },
  {
   "cell_type": "code",
   "execution_count": 2,
   "id": "8fa02eab-c936-4dc2-9160-2009a4b25984",
   "metadata": {},
   "outputs": [
    {
     "name": "stdout",
     "output_type": "stream",
     "text": [
      "2 numbers of sum: 21\n",
      "3 numbers of sum: 32\n",
      "Default sum: 0\n"
     ]
    }
   ],
   "source": [
    "class MathOps:\n",
    "    def add(self, a=0, b=0, c=0):\n",
    "        return a + b + c\n",
    "\n",
    "m = MathOps()\n",
    "\n",
    "print(\"2 numbers of sum:\", m.add(10,11))\n",
    "print(\"3 numbers of sum:\", m.add(12,20))\n",
    "print(\"Default sum:\", m.add())"
   ]
  },
  {
   "cell_type": "markdown",
   "id": "5ecadf3e-e7a8-40b3-a89a-e9bdc003bbcd",
   "metadata": {},
   "source": [
    "#### 29.Create a base class shape with draw()method and override it in derived classes."
   ]
  },
  {
   "cell_type": "code",
   "execution_count": 3,
   "id": "d42c5551-ddd0-4dbe-9259-6b2a306f5fd6",
   "metadata": {},
   "outputs": [
    {
     "name": "stdout",
     "output_type": "stream",
     "text": [
      "Drawing a Shape\n",
      "Drawing a Circle\n",
      "Drawing a Rectangle\n",
      "Drawing a Triangle\n"
     ]
    }
   ],
   "source": [
    "\n",
    "class Shape:\n",
    "    def draw(self):\n",
    "        print(\"Drawing a Shape\")\n",
    "\n",
    "\n",
    "class Circle(Shape):\n",
    "    def draw(self):\n",
    "        print(\"Drawing a Circle\")\n",
    "\n",
    "\n",
    "class Rectangle(Shape):\n",
    "    def draw(self):\n",
    "        print(\"Drawing a Rectangle\")\n",
    "\n",
    "\n",
    "class Triangle(Shape):\n",
    "    def draw(self):\n",
    "        print(\"Drawing a Triangle\")\n",
    "\n",
    "\n",
    "s = Shape()\n",
    "c = Circle()\n",
    "r = Rectangle()\n",
    "t = Triangle()\n",
    "\n",
    "\n",
    "s.draw()\n",
    "c.draw()\n",
    "r.draw()\n",
    "t.draw()\n"
   ]
  },
  {
   "cell_type": "markdown",
   "id": "c18084f3-417f-45e9-ae36-20bd5fb8df14",
   "metadata": {},
   "source": [
    "#### 30.Demonstrate duck typing with classes having the same method name."
   ]
  },
  {
   "cell_type": "code",
   "execution_count": 4,
   "id": "58df9b2e-d58e-4657-997a-44721cfd7895",
   "metadata": {},
   "outputs": [
    {
     "name": "stdout",
     "output_type": "stream",
     "text": [
      "Bark!\n",
      "Meow!\n",
      "Moo!\n"
     ]
    }
   ],
   "source": [
    "class Dog:\n",
    "    def speak(self):\n",
    "        return \"Bark!\"\n",
    "\n",
    "class Cat:\n",
    "    def speak(self):\n",
    "        return \"Meow!\"\n",
    "\n",
    "class Cow:\n",
    "    def speak(self):\n",
    "        return \"Moo!\"\n",
    "\n",
    "def animal_sound(animal):\n",
    "    print(animal.speak())\n",
    "\n",
    "d = Dog()\n",
    "c = Cat()\n",
    "cw = Cow()\n",
    "\n",
    "animal_sound(d)\n",
    "animal_sound(c)\n",
    "animal_sound(cw)"
   ]
  },
  {
   "cell_type": "code",
   "execution_count": null,
   "id": "a8852a81-7f20-4db6-8029-75fda0ae1d27",
   "metadata": {},
   "outputs": [],
   "source": []
  },
  {
   "cell_type": "markdown",
   "id": "ef477364-01d0-4e8b-8cf0-bbe1f49a7cd1",
   "metadata": {},
   "source": [
    "### 7.Encapsulation"
   ]
  },
  {
   "cell_type": "markdown",
   "id": "ddb52bb3-2d17-4328-ad23-d2445ac718ae",
   "metadata": {},
   "source": [
    "#### 31.Create a class Account with private balance attribute and provide method to deposit and withdraw."
   ]
  },
  {
   "cell_type": "code",
   "execution_count": 2,
   "id": "aaf5d037-9518-4a39-ba5a-5500eade5721",
   "metadata": {},
   "outputs": [
    {
     "name": "stdout",
     "output_type": "stream",
     "text": [
      "Amount Deposit Successfully\n",
      "Current Balance: 1500\n",
      "Amount withdraw Successfully.\n",
      "Current Balance: 1200\n",
      "Insufficient balance or invalid amount.\n",
      "Current Balance: 1200\n"
     ]
    }
   ],
   "source": [
    "class Account:\n",
    "    def __init__(self, initial_balance = 0):\n",
    "        self.__balance = initial_balance\n",
    "\n",
    "    def deposit(self, amount):\n",
    "        if amount > 0:\n",
    "            self.__balance += amount\n",
    "            print(\"Amount Deposit Successfully\")\n",
    "        else:\n",
    "            print(\"Invalid deposit Amount.\")\n",
    "\n",
    "    def withdraw(self, amount):\n",
    "        if amount > 0 and amount <= self.__balance:\n",
    "            self.__balance -= amount\n",
    "            print(\"Amount withdraw Successfully.\")\n",
    "        else:\n",
    "            print(\"Insufficient balance or invalid amount.\")\n",
    "\n",
    "    def get_balance(self):\n",
    "        return self.__balance\n",
    "\n",
    "acc = Account(1000)\n",
    "acc.deposit(500)\n",
    "print(\"Current Balance:\", acc.get_balance())\n",
    "\n",
    "acc.withdraw(300)\n",
    "print(\"Current Balance:\", acc.get_balance())\n",
    "\n",
    "acc.withdraw(2000)\n",
    "print(\"Current Balance:\", acc.get_balance())        "
   ]
  },
  {
   "cell_type": "markdown",
   "id": "a90cb575-9b06-4991-aa97-0c98fa7bc41c",
   "metadata": {},
   "source": [
    "#### 32.Create a class with private attributes and use getter and setter methods to access them."
   ]
  },
  {
   "cell_type": "code",
   "execution_count": 3,
   "id": "130de52b-cb05-4c76-ac76-787429df9dbe",
   "metadata": {},
   "outputs": [
    {
     "name": "stdout",
     "output_type": "stream",
     "text": [
      "Name: Darshan\n",
      "Age: 21\n",
      "Name update successfully.\n",
      "Age updated Successfully.\n",
      "Name: Piyush\n",
      "Age: 22\n"
     ]
    }
   ],
   "source": [
    "class Student:\n",
    "    def __init__(self, name, age):\n",
    "        self.__name = name\n",
    "        self.__age = age\n",
    "\n",
    "    def get_name(self):\n",
    "        return self.__name\n",
    "\n",
    "    def set_name(self, name):\n",
    "        if len(name) > 0:\n",
    "            self.__name = name\n",
    "            print(\"Name update successfully.\")\n",
    "        else:\n",
    "            print(\"Invalid name.\")\n",
    "\n",
    "    def get_age(self):\n",
    "        return self.__age\n",
    "\n",
    "    def set_age(self, age):\n",
    "        if age > 0:\n",
    "            self.__age = age\n",
    "            print(\"Age updated Successfully.\")\n",
    "        else:\n",
    "            print(\"Invalid Age.\")\n",
    "\n",
    "s1 = Student(\"Darshan\", 21)\n",
    "\n",
    "print(\"Name:\", s1.get_name())\n",
    "print(\"Age:\", s1.get_age())\n",
    "\n",
    "s1.set_name(\"Piyush\")\n",
    "s1.set_age(22)\n",
    "\n",
    "print(\"Name:\", s1.get_name())\n",
    "print(\"Age:\", s1.get_age())"
   ]
  },
  {
   "cell_type": "markdown",
   "id": "858ee470-dba7-4299-8aff-774af2afa907",
   "metadata": {},
   "source": [
    "#### 33.Demonstrate name mangling with private variables."
   ]
  },
  {
   "cell_type": "code",
   "execution_count": 5,
   "id": "d8f18f30-32c0-4452-9e3f-c9d0182ac6c6",
   "metadata": {},
   "outputs": [
    {
     "name": "stdout",
     "output_type": "stream",
     "text": [
      "Balance: 1000\n",
      "Accessing with name mangling: 1000\n"
     ]
    }
   ],
   "source": [
    "class Account:\n",
    "    def __init__(self, balance):\n",
    "        self.__balance = balance\n",
    "\n",
    "    def show_balance(self):\n",
    "        print(\"Balance:\", self.__balance)\n",
    "\n",
    "acc = Account(1000)\n",
    "\n",
    "acc.show_balance()\n",
    "\n",
    "print(\"Accessing with name mangling:\", acc._Account__balance)"
   ]
  },
  {
   "cell_type": "markdown",
   "id": "cb62fb28-342f-4cc5-bbab-ff5f67550fd5",
   "metadata": {},
   "source": [
    "#### 34. Create a class Bank with encapsulated methods to show account details securely. "
   ]
  },
  {
   "cell_type": "code",
   "execution_count": 1,
   "id": "09e7bcfb-ddb1-4fc7-9121-dea16888993b",
   "metadata": {},
   "outputs": [
    {
     "name": "stdout",
     "output_type": "stream",
     "text": [
      "Current Balance: 5000\n",
      "After Deposit: 6000\n",
      "After Withdrawal: 4000\n"
     ]
    }
   ],
   "source": [
    "class Bank:\n",
    "    def __init__(self, name, balance):\n",
    "        self.__name = name          \n",
    "        self.__balance = balance    \n",
    "\n",
    "    # getter method\n",
    "    def get_balance(self):\n",
    "        return self.__balance\n",
    "\n",
    "    # setter method\n",
    "    def deposit(self, amount):\n",
    "        if amount > 0:\n",
    "            self.__balance += amount\n",
    "        else:\n",
    "            print(\"Invalid amount!\")\n",
    "\n",
    "    # setter method\n",
    "    def withdraw(self, amount):\n",
    "        if 0 < amount <= self.__balance:\n",
    "            self.__balance -= amount\n",
    "        else:\n",
    "            print(\"Insufficient balance!\")\n",
    "\n",
    "# ---- using the class ----\n",
    "acc = Bank(\"Darshan\", 5000)\n",
    "\n",
    "print(\"Current Balance:\", acc.get_balance())\n",
    "\n",
    "acc.deposit(1000)\n",
    "print(\"After Deposit:\", acc.get_balance())\n",
    "\n",
    "acc.withdraw(2000)\n",
    "print(\"After Withdrawal:\", acc.get_balance())"
   ]
  },
  {
   "cell_type": "markdown",
   "id": "a1d9760e-53cb-4ea2-a42a-358dd006d7f9",
   "metadata": {},
   "source": [
    "#### 35. Demonstrate encapsulation by restricting access to class attributes. "
   ]
  },
  {
   "cell_type": "code",
   "execution_count": 2,
   "id": "862afa64-d681-48e0-ac8f-0b521f502c09",
   "metadata": {},
   "outputs": [
    {
     "name": "stdout",
     "output_type": "stream",
     "text": [
      "Name: Darshan\n",
      "Marks: 85\n",
      "Marks will be updated.\n",
      "Name: Darshan\n",
      "Marks: 95\n"
     ]
    }
   ],
   "source": [
    "class Student:\n",
    "    def __init__(self, name, marks):\n",
    "        self.__name = name\n",
    "        self.__marks = marks\n",
    "\n",
    "    def get_details(self):\n",
    "        print(\"Name:\", self.__name)\n",
    "        print(\"Marks:\", self.__marks)\n",
    "\n",
    "    def set_marks(self, new_marks):\n",
    "        if 0 <= new_marks <= 100:\n",
    "            self.__marks = new_marks\n",
    "            print(\"Marks will be updated.\")\n",
    "        else:\n",
    "            print(\"Invalid Marks! Must be between 0 and 100.\")\n",
    "\n",
    "s1 = Student(\"Darshan\", 85)\n",
    "\n",
    "s1.get_details()\n",
    "\n",
    "s1.set_marks(95)\n",
    "\n",
    "s1.get_details()"
   ]
  },
  {
   "cell_type": "code",
   "execution_count": null,
   "id": "7da3d94f-7a43-4c51-a509-d2d98294ec00",
   "metadata": {},
   "outputs": [],
   "source": []
  },
  {
   "cell_type": "markdown",
   "id": "43902850-dc49-40ab-a1aa-e5e95f5bf41a",
   "metadata": {},
   "source": [
    "### 8.Datetime Module"
   ]
  },
  {
   "cell_type": "markdown",
   "id": "a9c692af-e18a-492b-b9e7-c204ff85fd5c",
   "metadata": {},
   "source": [
    "#### 36. Write a program to display the current date and time. "
   ]
  },
  {
   "cell_type": "code",
   "execution_count": 4,
   "id": "555f14cf-c9b8-44d8-a256-677b7f143f82",
   "metadata": {},
   "outputs": [
    {
     "name": "stdout",
     "output_type": "stream",
     "text": [
      "Current Date: 2025-10-06\n",
      "Current Time: 08:23:23.226308\n"
     ]
    }
   ],
   "source": [
    "import datetime\n",
    "\n",
    "current = datetime.datetime.now()\n",
    "\n",
    "print(\"Current Date:\", current.date())\n",
    "print(\"Current Time:\", current.time())"
   ]
  },
  {
   "cell_type": "markdown",
   "id": "36660125-763b-495e-9bf2-8d7db75afc45",
   "metadata": {},
   "source": [
    "#### 37.Write a program to calculate a persons age from their date of birth."
   ]
  },
  {
   "cell_type": "code",
   "execution_count": 5,
   "id": "7b5b5ec1-2004-48a0-b50c-d4bf8163302c",
   "metadata": {},
   "outputs": [
    {
     "name": "stdin",
     "output_type": "stream",
     "text": [
      "Enter your date of birth(YYYY-MM-DD):  2004-06-11\n"
     ]
    },
    {
     "name": "stdout",
     "output_type": "stream",
     "text": [
      "Your age is: 21 years\n"
     ]
    }
   ],
   "source": [
    "import datetime\n",
    "\n",
    "dob_input = input(\"Enter your date of birth(YYYY-MM-DD): \")\n",
    "\n",
    "dob = datetime.datetime.strptime(dob_input, \"%Y-%m-%d\").date()\n",
    "\n",
    "today = datetime.date.today()\n",
    "\n",
    "age = today.year - dob.year\n",
    "if(today.month, today.day) < (dob.month, dob.day):\n",
    "    age -= 1\n",
    "\n",
    "print(\"Your age is:\", age, \"years\")"
   ]
  },
  {
   "cell_type": "markdown",
   "id": "3e729c46-7c3b-4de2-b8ec-5d6676136559",
   "metadata": {},
   "source": [
    "#### 38.Write a program to find the difference in days between two given dates."
   ]
  },
  {
   "cell_type": "code",
   "execution_count": 3,
   "id": "370d49c6-61bc-4e22-8f5a-2ed436dc8189",
   "metadata": {},
   "outputs": [
    {
     "name": "stdin",
     "output_type": "stream",
     "text": [
      "First Date (YYYY-MM-DD):  2025-06-20\n",
      "Second Date (YYYY-MM-DD):  2025-06-11\n"
     ]
    },
    {
     "name": "stdout",
     "output_type": "stream",
     "text": [
      "Difference of days: 9\n"
     ]
    }
   ],
   "source": [
    "from datetime import datetime\n",
    "\n",
    "d1 = input(\"First Date (YYYY-MM-DD): \")\n",
    "d2 = input(\"Second Date (YYYY-MM-DD): \")\n",
    "\n",
    "date1 = datetime.strptime(d1, \"%Y-%m-%d\")\n",
    "date2 = datetime.strptime(d2, \"%Y-%m-%d\")\n",
    "\n",
    "diff = abs((date2 - date1).days)\n",
    "print(\"Difference of days:\", diff)"
   ]
  },
  {
   "cell_type": "markdown",
   "id": "5e56a103-5a78-4932-a6b9-30825ca149ed",
   "metadata": {},
   "source": [
    "#### 39.Write a program to print the date 30 days from today."
   ]
  },
  {
   "cell_type": "code",
   "execution_count": 5,
   "id": "17856877-6ff1-4d2e-889c-4f001e1959f5",
   "metadata": {},
   "outputs": [
    {
     "name": "stdout",
     "output_type": "stream",
     "text": [
      "Today Date: 2025-10-07\n",
      "After 30 day of given date: 2025-11-06\n"
     ]
    }
   ],
   "source": [
    "from datetime import date, timedelta\n",
    "\n",
    "today = date.today()\n",
    "future_date = today + timedelta(days=30)\n",
    "\n",
    "print(\"Today Date:\", today)\n",
    "print(\"After 30 day of given date:\", future_date)"
   ]
  },
  {
   "cell_type": "markdown",
   "id": "e36c29c3-0052-424e-b50d-64a8fbd2fc14",
   "metadata": {},
   "source": [
    "#### 40.Write a program to format today's date as \"DD/MM/YYYY\" and \"YYYY-MM-DD\"."
   ]
  },
  {
   "cell_type": "code",
   "execution_count": 7,
   "id": "ac527170-b2cd-4e1d-bb09-76e76112a70d",
   "metadata": {},
   "outputs": [
    {
     "name": "stdout",
     "output_type": "stream",
     "text": [
      "Today Date (DD/MM/YYYY): 07/10/2025\n",
      "Today Date(YYYY-MM-DD): 2025-10-07\n"
     ]
    }
   ],
   "source": [
    "from datetime import date \n",
    "\n",
    "today = date.today()\n",
    "\n",
    "format1 = today.strftime(\"%d/%m/%Y\")\n",
    "format2 = today.strftime(\"%Y-%m-%d\")\n",
    "\n",
    "print(\"Today Date (DD/MM/YYYY):\", format1)\n",
    "print(\"Today Date(YYYY-MM-DD):\", format2)"
   ]
  },
  {
   "cell_type": "code",
   "execution_count": null,
   "id": "4a8718ab-371b-4e62-9b47-8f6b57be9e8f",
   "metadata": {},
   "outputs": [],
   "source": []
  },
  {
   "cell_type": "markdown",
   "id": "977b41f1-3a29-4459-8df2-9effafa7fe6b",
   "metadata": {},
   "source": [
    "### 9.Math Module"
   ]
  },
  {
   "cell_type": "markdown",
   "id": "520d0d2c-f7dd-48d4-986d-d41453578a8b",
   "metadata": {},
   "source": [
    "#### 41.Write a program to calculate factorial using math.factorial()."
   ]
  },
  {
   "cell_type": "code",
   "execution_count": 11,
   "id": "42b138b8-34e1-4e8d-9f01-c43eb9aac08e",
   "metadata": {},
   "outputs": [
    {
     "name": "stdin",
     "output_type": "stream",
     "text": [
      "Enter the number:  10\n"
     ]
    },
    {
     "name": "stdout",
     "output_type": "stream",
     "text": [
      "num 10 Factorial is: 3628800\n"
     ]
    }
   ],
   "source": [
    "import math\n",
    "\n",
    "num = int(input(\"Enter the number: \"))\n",
    "\n",
    "result = math.factorial(num)\n",
    "\n",
    "print(\"num\", num, \"Factorial is:\", result)"
   ]
  },
  {
   "cell_type": "markdown",
   "id": "e6afa159-5b1c-4d69-af11-a1eeba684a09",
   "metadata": {},
   "source": [
    "#### 42.Write a program to find the greatest common divisor (GCD) of two numbers."
   ]
  },
  {
   "cell_type": "code",
   "execution_count": 13,
   "id": "beade7f9-eeff-425e-8a99-e6feba5a3e9e",
   "metadata": {},
   "outputs": [
    {
     "name": "stdin",
     "output_type": "stream",
     "text": [
      "Enter first number:  12\n",
      "Enter second number:  20\n"
     ]
    },
    {
     "name": "stdout",
     "output_type": "stream",
     "text": [
      "The GCD of 12 and 20 is: 4\n"
     ]
    }
   ],
   "source": [
    "import math\n",
    "\n",
    "a = int(input(\"Enter first number: \"))\n",
    "b = int(input(\"Enter second number: \"))\n",
    "\n",
    "gcd = math.gcd(a, b)\n",
    "\n",
    "print(\"The GCD of\", a, \"and\", b, \"is:\", gcd)"
   ]
  },
  {
   "cell_type": "markdown",
   "id": "677de4e2-b3f7-4d67-965d-0ebf6401ce15",
   "metadata": {},
   "source": [
    "#### 43.Write a program to calculate square root, power and logarithm using math module."
   ]
  },
  {
   "cell_type": "code",
   "execution_count": 14,
   "id": "db62e9e5-d8a4-4c8d-b477-c00c04c5b2b3",
   "metadata": {},
   "outputs": [
    {
     "name": "stdin",
     "output_type": "stream",
     "text": [
      "Enter a number:  2\n"
     ]
    },
    {
     "name": "stdout",
     "output_type": "stream",
     "text": [
      "Square root of 2.0 is: 1.4142135623730951\n",
      "2.0 raised to power 2 is: 4.0\n",
      "Natural logarithm of 2.0 is: 0.6931471805599453\n"
     ]
    }
   ],
   "source": [
    "import math\n",
    "\n",
    "num = float(input(\"Enter a number: \"))\n",
    "\n",
    "sqrt_val = math.sqrt(num)\n",
    "\n",
    "power_val = math.pow(num, 2)\n",
    "\n",
    "log_val = math.log(num)\n",
    "\n",
    "print(\"Square root of\", num, \"is:\", sqrt_val)\n",
    "print(num, \"raised to power 2 is:\", power_val)\n",
    "print(\"Natural logarithm of\", num, \"is:\", log_val)"
   ]
  },
  {
   "cell_type": "markdown",
   "id": "c8bf2831-bd25-4782-9d2e-97f3ae58a648",
   "metadata": {},
   "source": [
    "#### 44.Write a program to generate random numbers between 1 and 100(using math and random)."
   ]
  },
  {
   "cell_type": "code",
   "execution_count": 16,
   "id": "527b3775-24b9-4457-9f61-2433d5a73f11",
   "metadata": {},
   "outputs": [
    {
     "name": "stdout",
     "output_type": "stream",
     "text": [
      "Random number between 1 and 100 is: 56\n"
     ]
    }
   ],
   "source": [
    "import random\n",
    "import math\n",
    "\n",
    "rand_num = random.randint(1, 100)\n",
    "\n",
    "print(\"Random number between 1 and 100 is:\", rand_num)"
   ]
  },
  {
   "cell_type": "markdown",
   "id": "e0713008-7176-4579-9a1b-c279b2ff2700",
   "metadata": {},
   "source": [
    "#### 45.Write a program to convert radians to degrees and vice versa."
   ]
  },
  {
   "cell_type": "code",
   "execution_count": 17,
   "id": "21441787-9aac-42e9-9a21-8e3d19a7fe28",
   "metadata": {},
   "outputs": [
    {
     "name": "stdin",
     "output_type": "stream",
     "text": [
      "Enter angle in radians:  1.55\n"
     ]
    },
    {
     "name": "stdout",
     "output_type": "stream",
     "text": [
      "1.55 radians = 88.8084582452776 degrees\n"
     ]
    },
    {
     "name": "stdin",
     "output_type": "stream",
     "text": [
      "Enter angle in degrees:  85\n"
     ]
    },
    {
     "name": "stdout",
     "output_type": "stream",
     "text": [
      "85.0 degrees = 1.4835298641951802 radians\n"
     ]
    }
   ],
   "source": [
    "rad = float(input(\"Enter angle in radians: \"))\n",
    "deg_from_rad = math.degrees(rad)\n",
    "print(rad, \"radians =\", deg_from_rad, \"degrees\" )\n",
    "\n",
    "deg = float(input(\"Enter angle in degrees: \"))\n",
    "rad_from_deg = math.radians(deg)\n",
    "print(deg, \"degrees =\", rad_from_deg, \"radians\" )"
   ]
  },
  {
   "cell_type": "code",
   "execution_count": null,
   "id": "f0dac919-f05f-4c96-96d5-8d334ff5861c",
   "metadata": {},
   "outputs": [],
   "source": []
  },
  {
   "cell_type": "markdown",
   "id": "57495a35-b968-49ce-ae88-72cd86d67dda",
   "metadata": {},
   "source": [
    "### 10.Regular Expression Module"
   ]
  },
  {
   "cell_type": "markdown",
   "id": "66eb9109-3b56-4699-a5be-23d872f7d515",
   "metadata": {},
   "source": [
    "#### 46.Write a regex to check if a string is a valid email address."
   ]
  },
  {
   "cell_type": "code",
   "execution_count": 1,
   "id": "67ac1efd-c8a6-40e1-8003-a4ccda862d76",
   "metadata": {},
   "outputs": [
    {
     "name": "stdout",
     "output_type": "stream",
     "text": [
      "Valid Email\n"
     ]
    }
   ],
   "source": [
    "import re \n",
    "\n",
    "pattern = r'\\w+@\\w+\\.\\w+'\n",
    "\n",
    "email = \"darshan@gmail.com\"\n",
    "\n",
    "if re.fullmatch(pattern, email):\n",
    "    print(\"Valid Email\")\n",
    "else:\n",
    "    print(\"Invalid Email\")"
   ]
  },
  {
   "cell_type": "markdown",
   "id": "57787bac-5e33-4cef-bcd1-dd077ca47cd2",
   "metadata": {},
   "source": [
    "#### 47.Write a regex to extract all numbers from a string."
   ]
  },
  {
   "cell_type": "code",
   "execution_count": 2,
   "id": "822e6d42-ecb3-4bc9-86f6-fd79960f1bc4",
   "metadata": {},
   "outputs": [
    {
     "name": "stdout",
     "output_type": "stream",
     "text": [
      "Extracted Numbers: ['21', '17', '3', '12']\n"
     ]
    }
   ],
   "source": [
    "import re\n",
    "\n",
    "text = \"My age is 21 and my brother is 17. We bought 3 apples and 12 banana.\"\n",
    "\n",
    "pattern = r'\\d+'\n",
    "\n",
    "numbers = re.findall(pattern, text)\n",
    "\n",
    "print(\"Extracted Numbers:\", numbers)"
   ]
  },
  {
   "cell_type": "markdown",
   "id": "535857ec-f464-4f91-b66a-aa513bd3ad62",
   "metadata": {},
   "source": [
    "#### 48.Write a regex to validate if a string is a valid Indian mobile number(10 digits)."
   ]
  },
  {
   "cell_type": "code",
   "execution_count": 3,
   "id": "614133b4-89bd-460d-a45a-5e6e99509c4f",
   "metadata": {},
   "outputs": [
    {
     "name": "stdout",
     "output_type": "stream",
     "text": [
      "8080125881 -> Valid Indian Mobile Number.\n",
      "9763958983 -> Valid Indian Mobile Number.\n",
      "9130052070 -> Valid Indian Mobile Number.\n",
      "7304180481 -> Valid Indian Mobile Number.\n",
      "8010714208 -> Valid Indian Mobile Number.\n"
     ]
    }
   ],
   "source": [
    "import re\n",
    "\n",
    "pattern = re.compile(r'^[6-9]\\d{9}$')\n",
    "\n",
    "numbers = [\n",
    "    \"8080125881\",\n",
    "    \"9763958983\",\n",
    "    \"9130052070\",\n",
    "    \"7304180481\",\n",
    "    \"8010714208\"\n",
    "]\n",
    "\n",
    "for num in numbers:\n",
    "    if pattern.fullmatch(num):\n",
    "        print(num, \"-> Valid Indian Mobile Number.\")\n",
    "    else:\n",
    "        print(num, \"-> Invalid Number.\")"
   ]
  },
  {
   "cell_type": "markdown",
   "id": "0238c337-a283-4e9e-82e9-2dfeac6285a3",
   "metadata": {},
   "source": [
    "#### 49.Write a regex to find all words starting with a capital letter in a sentence."
   ]
  },
  {
   "cell_type": "code",
   "execution_count": 4,
   "id": "e0629508-5614-4c0c-b7bf-eb12b6e7be95",
   "metadata": {},
   "outputs": [
    {
     "name": "stdout",
     "output_type": "stream",
     "text": [
      "Words starting with capital letters: ['My', 'Name', 'Darshan', 'I', 'Live', 'India']\n"
     ]
    }
   ],
   "source": [
    "import re \n",
    "\n",
    "sentence = \"My Name is Darshan and I Live in India.\"\n",
    "\n",
    "pattern = r'\\b[A-Z][a-zA-Z]*\\b'\n",
    "\n",
    "capital_words = re.findall(pattern, sentence)\n",
    "\n",
    "print(\"Words starting with capital letters:\", capital_words)"
   ]
  },
  {
   "cell_type": "markdown",
   "id": "31d36d43-ba66-4d73-8bea-16b6be74256b",
   "metadata": {},
   "source": [
    "#### 50.Write a regex to replace all spaces in a string with a hyphen."
   ]
  },
  {
   "cell_type": "code",
   "execution_count": null,
   "id": "300ac88a-d14f-4c9a-b171-fa0aee64cf4e",
   "metadata": {},
   "outputs": [],
   "source": [
    "import re\n",
    "\n",
    "text = \"Hi! I am learning Data Science til last 3 months.\"\n",
    "\n",
    "new_text = re.sub(r'')"
   ]
  }
 ],
 "metadata": {
  "kernelspec": {
   "display_name": "Python 3 (ipykernel)",
   "language": "python",
   "name": "python3"
  },
  "language_info": {
   "codemirror_mode": {
    "name": "ipython",
    "version": 3
   },
   "file_extension": ".py",
   "mimetype": "text/x-python",
   "name": "python",
   "nbconvert_exporter": "python",
   "pygments_lexer": "ipython3",
   "version": "3.13.5"
  }
 },
 "nbformat": 4,
 "nbformat_minor": 5
}
